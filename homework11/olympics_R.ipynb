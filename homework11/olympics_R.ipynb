{
 "cells": [
  {
   "cell_type": "markdown",
   "metadata": {},
   "source": [
    "<center>\n",
    "<img src=\"../img/ods_stickers.jpg\" />\n",
    "    \n",
    "## [mlcourse.ai](mlcourse.ai) – Open Machine Learning Course \n",
    "Author: Arina Lopukhova (@erynn). Edited by [Yury Kashnitskiy](https://yorko.github.io) (@yorko). This material is subject to the terms and conditions of the [Creative Commons CC BY-NC-SA 4.0](https://creativecommons.org/licenses/by-nc-sa/4.0/) license. Free use is permitted for any non-commercial purpose."
   ]
  },
  {
   "cell_type": "markdown",
   "metadata": {},
   "source": [
    "<h1><center>Assignment #1. Fall 2018</center></h1>\n",
    "<h2><center>Exploratory data analysis of Olympic games with R</center></h2>"
   ]
  },
  {
   "cell_type": "markdown",
   "metadata": {},
   "source": [
    "__There are ten questions about [120 years of Olympic history: athletes and results](https://www.kaggle.com/heesoo37/120-years-of-olympic-history-athletes-and-results/version/2) dataset in this task.__"
   ]
  },
  {
   "cell_type": "markdown",
   "metadata": {},
   "source": [
    "Download the file `athlete_events.csv` from [Kaggle page](https://www.kaggle.com/heesoo37/120-years-of-olympic-history-athletes-and-results). The dataset has the following features (copied from Kaggle):\n",
    "\n",
    "- __ID__ - Unique number for each athlete\n",
    "- __Name__ - Athlete's name\n",
    "- __Sex__ - M or F\n",
    "- __Age__ - Integer\n",
    "- __Height__ - In centimeters\n",
    "- __Weight__ - In kilograms\n",
    "- __Team__ - Team name\n",
    "- __NOC__ - National Olympic Committee 3-letter code\n",
    "- __Games__ - Year and season\n",
    "- __Year__ - Integer\n",
    "- __Season__ - Summer or Winter\n",
    "- __City__ - Host city\n",
    "- __Sport__ - Sport\n",
    "- __Event__ - Event\n",
    "- __Medal__ - Gold, Silver, Bronze, or NA"
   ]
  },
  {
   "cell_type": "code",
   "execution_count": 1,
   "metadata": {},
   "outputs": [
    {
     "data": {
      "text/html": [
       "<table>\n",
       "<caption>A data.frame: 6 × 15</caption>\n",
       "<thead>\n",
       "\t<tr><th></th><th scope=col>ID</th><th scope=col>Name</th><th scope=col>Sex</th><th scope=col>Age</th><th scope=col>Height</th><th scope=col>Weight</th><th scope=col>Team</th><th scope=col>NOC</th><th scope=col>Games</th><th scope=col>Year</th><th scope=col>Season</th><th scope=col>City</th><th scope=col>Sport</th><th scope=col>Event</th><th scope=col>Medal</th></tr>\n",
       "\t<tr><th></th><th scope=col>&lt;int&gt;</th><th scope=col>&lt;fct&gt;</th><th scope=col>&lt;fct&gt;</th><th scope=col>&lt;int&gt;</th><th scope=col>&lt;int&gt;</th><th scope=col>&lt;dbl&gt;</th><th scope=col>&lt;fct&gt;</th><th scope=col>&lt;fct&gt;</th><th scope=col>&lt;fct&gt;</th><th scope=col>&lt;int&gt;</th><th scope=col>&lt;fct&gt;</th><th scope=col>&lt;fct&gt;</th><th scope=col>&lt;fct&gt;</th><th scope=col>&lt;fct&gt;</th><th scope=col>&lt;fct&gt;</th></tr>\n",
       "</thead>\n",
       "<tbody>\n",
       "\t<tr><th scope=row>1</th><td>1</td><td>A Dijiang               </td><td>M</td><td>24</td><td>180</td><td>80</td><td>China         </td><td>CHN</td><td>1992 Summer</td><td>1992</td><td>Summer</td><td>Barcelona</td><td>Basketball   </td><td>Basketball Men's Basketball       </td><td>NA  </td></tr>\n",
       "\t<tr><th scope=row>2</th><td>2</td><td>A Lamusi                </td><td>M</td><td>23</td><td>170</td><td>60</td><td>China         </td><td>CHN</td><td>2012 Summer</td><td>2012</td><td>Summer</td><td>London   </td><td>Judo         </td><td>Judo Men's Extra-Lightweight      </td><td>NA  </td></tr>\n",
       "\t<tr><th scope=row>3</th><td>3</td><td>Gunnar Nielsen Aaby     </td><td>M</td><td>24</td><td> NA</td><td>NA</td><td>Denmark       </td><td>DEN</td><td>1920 Summer</td><td>1920</td><td>Summer</td><td>Antwerpen</td><td>Football     </td><td>Football Men's Football           </td><td>NA  </td></tr>\n",
       "\t<tr><th scope=row>4</th><td>4</td><td>Edgar Lindenau Aabye    </td><td>M</td><td>34</td><td> NA</td><td>NA</td><td>Denmark/Sweden</td><td>DEN</td><td>1900 Summer</td><td>1900</td><td>Summer</td><td>Paris    </td><td>Tug-Of-War   </td><td>Tug-Of-War Men's Tug-Of-War       </td><td>Gold</td></tr>\n",
       "\t<tr><th scope=row>5</th><td>5</td><td>Christine Jacoba Aaftink</td><td>F</td><td>21</td><td>185</td><td>82</td><td>Netherlands   </td><td>NED</td><td>1988 Winter</td><td>1988</td><td>Winter</td><td>Calgary  </td><td>Speed Skating</td><td>Speed Skating Women's 500 metres  </td><td>NA  </td></tr>\n",
       "\t<tr><th scope=row>6</th><td>5</td><td>Christine Jacoba Aaftink</td><td>F</td><td>21</td><td>185</td><td>82</td><td>Netherlands   </td><td>NED</td><td>1988 Winter</td><td>1988</td><td>Winter</td><td>Calgary  </td><td>Speed Skating</td><td>Speed Skating Women's 1,000 metres</td><td>NA  </td></tr>\n",
       "</tbody>\n",
       "</table>\n"
      ],
      "text/latex": [
       "A data.frame: 6 × 15\n",
       "\\begin{tabular}{r|lllllllllllllll}\n",
       "  & ID & Name & Sex & Age & Height & Weight & Team & NOC & Games & Year & Season & City & Sport & Event & Medal\\\\\n",
       "  & <int> & <fct> & <fct> & <int> & <int> & <dbl> & <fct> & <fct> & <fct> & <int> & <fct> & <fct> & <fct> & <fct> & <fct>\\\\\n",
       "\\hline\n",
       "\t1 & 1 & A Dijiang                & M & 24 & 180 & 80 & China          & CHN & 1992 Summer & 1992 & Summer & Barcelona & Basketball    & Basketball Men's Basketball        & NA  \\\\\n",
       "\t2 & 2 & A Lamusi                 & M & 23 & 170 & 60 & China          & CHN & 2012 Summer & 2012 & Summer & London    & Judo          & Judo Men's Extra-Lightweight       & NA  \\\\\n",
       "\t3 & 3 & Gunnar Nielsen Aaby      & M & 24 &  NA & NA & Denmark        & DEN & 1920 Summer & 1920 & Summer & Antwerpen & Football      & Football Men's Football            & NA  \\\\\n",
       "\t4 & 4 & Edgar Lindenau Aabye     & M & 34 &  NA & NA & Denmark/Sweden & DEN & 1900 Summer & 1900 & Summer & Paris     & Tug-Of-War    & Tug-Of-War Men's Tug-Of-War        & Gold\\\\\n",
       "\t5 & 5 & Christine Jacoba Aaftink & F & 21 & 185 & 82 & Netherlands    & NED & 1988 Winter & 1988 & Winter & Calgary   & Speed Skating & Speed Skating Women's 500 metres   & NA  \\\\\n",
       "\t6 & 5 & Christine Jacoba Aaftink & F & 21 & 185 & 82 & Netherlands    & NED & 1988 Winter & 1988 & Winter & Calgary   & Speed Skating & Speed Skating Women's 1,000 metres & NA  \\\\\n",
       "\\end{tabular}\n"
      ],
      "text/markdown": [
       "\n",
       "A data.frame: 6 × 15\n",
       "\n",
       "| <!--/--> | ID &lt;int&gt; | Name &lt;fct&gt; | Sex &lt;fct&gt; | Age &lt;int&gt; | Height &lt;int&gt; | Weight &lt;dbl&gt; | Team &lt;fct&gt; | NOC &lt;fct&gt; | Games &lt;fct&gt; | Year &lt;int&gt; | Season &lt;fct&gt; | City &lt;fct&gt; | Sport &lt;fct&gt; | Event &lt;fct&gt; | Medal &lt;fct&gt; |\n",
       "|---|---|---|---|---|---|---|---|---|---|---|---|---|---|---|---|\n",
       "| 1 | 1 | A Dijiang                | M | 24 | 180 | 80 | China          | CHN | 1992 Summer | 1992 | Summer | Barcelona | Basketball    | Basketball Men's Basketball        | NA   |\n",
       "| 2 | 2 | A Lamusi                 | M | 23 | 170 | 60 | China          | CHN | 2012 Summer | 2012 | Summer | London    | Judo          | Judo Men's Extra-Lightweight       | NA   |\n",
       "| 3 | 3 | Gunnar Nielsen Aaby      | M | 24 |  NA | NA | Denmark        | DEN | 1920 Summer | 1920 | Summer | Antwerpen | Football      | Football Men's Football            | NA   |\n",
       "| 4 | 4 | Edgar Lindenau Aabye     | M | 34 |  NA | NA | Denmark/Sweden | DEN | 1900 Summer | 1900 | Summer | Paris     | Tug-Of-War    | Tug-Of-War Men's Tug-Of-War        | Gold |\n",
       "| 5 | 5 | Christine Jacoba Aaftink | F | 21 | 185 | 82 | Netherlands    | NED | 1988 Winter | 1988 | Winter | Calgary   | Speed Skating | Speed Skating Women's 500 metres   | NA   |\n",
       "| 6 | 5 | Christine Jacoba Aaftink | F | 21 | 185 | 82 | Netherlands    | NED | 1988 Winter | 1988 | Winter | Calgary   | Speed Skating | Speed Skating Women's 1,000 metres | NA   |\n",
       "\n"
      ],
      "text/plain": [
       "  ID Name                     Sex Age Height Weight Team           NOC\n",
       "1 1  A Dijiang                M   24  180    80     China          CHN\n",
       "2 2  A Lamusi                 M   23  170    60     China          CHN\n",
       "3 3  Gunnar Nielsen Aaby      M   24   NA    NA     Denmark        DEN\n",
       "4 4  Edgar Lindenau Aabye     M   34   NA    NA     Denmark/Sweden DEN\n",
       "5 5  Christine Jacoba Aaftink F   21  185    82     Netherlands    NED\n",
       "6 5  Christine Jacoba Aaftink F   21  185    82     Netherlands    NED\n",
       "  Games       Year Season City      Sport        \n",
       "1 1992 Summer 1992 Summer Barcelona Basketball   \n",
       "2 2012 Summer 2012 Summer London    Judo         \n",
       "3 1920 Summer 1920 Summer Antwerpen Football     \n",
       "4 1900 Summer 1900 Summer Paris     Tug-Of-War   \n",
       "5 1988 Winter 1988 Winter Calgary   Speed Skating\n",
       "6 1988 Winter 1988 Winter Calgary   Speed Skating\n",
       "  Event                              Medal\n",
       "1 Basketball Men's Basketball        NA   \n",
       "2 Judo Men's Extra-Lightweight       NA   \n",
       "3 Football Men's Football            NA   \n",
       "4 Tug-Of-War Men's Tug-Of-War        Gold \n",
       "5 Speed Skating Women's 500 metres   NA   \n",
       "6 Speed Skating Women's 1,000 metres NA   "
      ]
     },
     "metadata": {},
     "output_type": "display_data"
    }
   ],
   "source": [
    "df <- read.csv('athlete_events.csv')\n",
    "head(df)"
   ]
  },
  {
   "cell_type": "markdown",
   "metadata": {},
   "source": [
    "__1. How old were the youngest male and female participants of the 1996 Olympics?__\n",
    "\n",
    "- 16 and 15\n",
    "- 14 and 12 \n",
    "- 16 and 12\n",
    "- 13 and 11"
   ]
  },
  {
   "cell_type": "code",
   "execution_count": 3,
   "metadata": {},
   "outputs": [
    {
     "data": {
      "text/html": [
       "12"
      ],
      "text/latex": [
       "12"
      ],
      "text/markdown": [
       "12"
      ],
      "text/plain": [
       "[1] 12"
      ]
     },
     "metadata": {},
     "output_type": "display_data"
    },
    {
     "data": {
      "text/html": [
       "14"
      ],
      "text/latex": [
       "14"
      ],
      "text/markdown": [
       "14"
      ],
      "text/plain": [
       "[1] 14"
      ]
     },
     "metadata": {},
     "output_type": "display_data"
    }
   ],
   "source": [
    "min(df[df$Year == 1996 & df$Sex == 'F',]['Age'], na.rm = TRUE) # female\n",
    "min(df[df$Year == 1996 & df$Sex == 'M',]['Age'], na.rm = TRUE) # male"
   ]
  },
  {
   "cell_type": "markdown",
   "metadata": {},
   "source": [
    "__2. What was the percentage of male gymnasts among all the male participants of the 2000 Olympics? Round the answer to the first decimal.__\n",
    "\n",
    "*Hint:* here and further if needed drop duplicated sportsmen to count only unique ones. \n",
    "\n",
    "- 0.2\n",
    "- 1.5 \n",
    "- 2.5\n",
    "- 7.7"
   ]
  },
  {
   "cell_type": "code",
   "execution_count": 21,
   "metadata": {},
   "outputs": [
    {
     "data": {
      "text/html": [
       "<strong>Gymnastics:</strong> 1.5"
      ],
      "text/latex": [
       "\\textbf{Gymnastics:} 1.5"
      ],
      "text/markdown": [
       "**Gymnastics:** 1.5"
      ],
      "text/plain": [
       "Gymnastics \n",
       "       1.5 "
      ]
     },
     "metadata": {},
     "output_type": "display_data"
    }
   ],
   "source": [
    "new_df = df[df$Year == 2000 & df$Sex == 'M',]\n",
    "new_df = new_df[!duplicated(new_df$ID),]\n",
    "round(prop.table(table(new_df$Sport))['Gymnastics'], digits=3) * 100"
   ]
  },
  {
   "cell_type": "markdown",
   "metadata": {},
   "source": [
    "__3. What are the mean and standard deviation of height for female basketball players participated in the 2000 Olympics? Round the answer to the first decimal.__\n",
    "\n",
    "- 178.5 and 7.2\n",
    "- 179.4 and 10\n",
    "- 180.7 and 6.7\n",
    "- 182.4 and 9.1 "
   ]
  },
  {
   "cell_type": "code",
   "execution_count": 30,
   "metadata": {},
   "outputs": [
    {
     "data": {
      "text/html": [
       "182.4"
      ],
      "text/latex": [
       "182.4"
      ],
      "text/markdown": [
       "182.4"
      ],
      "text/plain": [
       "[1] 182.4"
      ]
     },
     "metadata": {},
     "output_type": "display_data"
    },
    {
     "data": {
      "text/html": [
       "9.1"
      ],
      "text/latex": [
       "9.1"
      ],
      "text/markdown": [
       "9.1"
      ],
      "text/plain": [
       "[1] 9.1"
      ]
     },
     "metadata": {},
     "output_type": "display_data"
    }
   ],
   "source": [
    "new_df = df[df$Year == 2000 & df$Sex == 'F' & df$Sport == 'Basketball',]\n",
    "new_df = new_df[!duplicated(new_df$ID),]\n",
    "round(mean(new_df$Height), digits=1) # mean\n",
    "round(sd(new_df$Height), digits=1) # standard deviation"
   ]
  },
  {
   "cell_type": "markdown",
   "metadata": {},
   "source": [
    "__4. Find a sportsperson participated in the 2002 Olympics, with the highest weight among other participants of the same Olympics. What sport did he or she do?__\n",
    "\n",
    "- Judo\n",
    "- Bobsleigh \n",
    "- Weightlifting\n",
    "- Boxing"
   ]
  },
  {
   "cell_type": "code",
   "execution_count": 67,
   "metadata": {
    "scrolled": true
   },
   "outputs": [
    {
     "data": {
      "text/html": [
       "Bobsleigh\n",
       "<details>\n",
       "\t<summary style=display:list-item;cursor:pointer>\n",
       "\t\t<strong>Levels</strong>:\n",
       "\t</summary>\n",
       "\t<style>\n",
       "\t.list-inline {list-style: none; margin:0; padding: 0}\n",
       "\t.list-inline>li {display: inline-block}\n",
       "\t.list-inline>li:not(:last-child)::after {content: \"\\00b7\"; padding: 0 .5ex}\n",
       "\t</style>\n",
       "\t<ol class=list-inline><li>'Aeronautics'</li><li>'Alpine Skiing'</li><li>'Alpinism'</li><li>'Archery'</li><li>'Art Competitions'</li><li>'Athletics'</li><li>'Badminton'</li><li>'Baseball'</li><li>'Basketball'</li><li>'Basque Pelota'</li><li>'Beach Volleyball'</li><li>'Biathlon'</li><li>'Bobsleigh'</li><li>'Boxing'</li><li>'Canoeing'</li><li>'Cricket'</li><li>'Croquet'</li><li>'Cross Country Skiing'</li><li>'Curling'</li><li>'Cycling'</li><li>'Diving'</li><li>'Equestrianism'</li><li>'Fencing'</li><li>'Figure Skating'</li><li>'Football'</li><li>'Freestyle Skiing'</li><li>'Golf'</li><li>'Gymnastics'</li><li>'Handball'</li><li>'Hockey'</li><li>'Ice Hockey'</li><li>'Jeu De Paume'</li><li>'Judo'</li><li>'Lacrosse'</li><li>'Luge'</li><li>'Military Ski Patrol'</li><li>'Modern Pentathlon'</li><li>'Motorboating'</li><li>'Nordic Combined'</li><li>'Polo'</li><li>'Racquets'</li><li>'Rhythmic Gymnastics'</li><li>'Roque'</li><li>'Rowing'</li><li>'Rugby'</li><li>'Rugby Sevens'</li><li>'Sailing'</li><li>'Shooting'</li><li>'Short Track Speed Skating'</li><li>'Skeleton'</li><li>'Ski Jumping'</li><li>'Snowboarding'</li><li>'Softball'</li><li>'Speed Skating'</li><li>'Swimming'</li><li>'Synchronized Swimming'</li><li>'Table Tennis'</li><li>'Taekwondo'</li><li>'Tennis'</li><li>'Trampolining'</li><li>'Triathlon'</li><li>'Tug-Of-War'</li><li>'Volleyball'</li><li>'Water Polo'</li><li>'Weightlifting'</li><li>'Wrestling'</li></ol>\n",
       "</details>"
      ],
      "text/latex": [
       "Bobsleigh\n",
       "\\emph{Levels}: \\begin{enumerate*}\n",
       "\\item 'Aeronautics'\n",
       "\\item 'Alpine Skiing'\n",
       "\\item 'Alpinism'\n",
       "\\item 'Archery'\n",
       "\\item 'Art Competitions'\n",
       "\\item 'Athletics'\n",
       "\\item 'Badminton'\n",
       "\\item 'Baseball'\n",
       "\\item 'Basketball'\n",
       "\\item 'Basque Pelota'\n",
       "\\item 'Beach Volleyball'\n",
       "\\item 'Biathlon'\n",
       "\\item 'Bobsleigh'\n",
       "\\item 'Boxing'\n",
       "\\item 'Canoeing'\n",
       "\\item 'Cricket'\n",
       "\\item 'Croquet'\n",
       "\\item 'Cross Country Skiing'\n",
       "\\item 'Curling'\n",
       "\\item 'Cycling'\n",
       "\\item 'Diving'\n",
       "\\item 'Equestrianism'\n",
       "\\item 'Fencing'\n",
       "\\item 'Figure Skating'\n",
       "\\item 'Football'\n",
       "\\item 'Freestyle Skiing'\n",
       "\\item 'Golf'\n",
       "\\item 'Gymnastics'\n",
       "\\item 'Handball'\n",
       "\\item 'Hockey'\n",
       "\\item 'Ice Hockey'\n",
       "\\item 'Jeu De Paume'\n",
       "\\item 'Judo'\n",
       "\\item 'Lacrosse'\n",
       "\\item 'Luge'\n",
       "\\item 'Military Ski Patrol'\n",
       "\\item 'Modern Pentathlon'\n",
       "\\item 'Motorboating'\n",
       "\\item 'Nordic Combined'\n",
       "\\item 'Polo'\n",
       "\\item 'Racquets'\n",
       "\\item 'Rhythmic Gymnastics'\n",
       "\\item 'Roque'\n",
       "\\item 'Rowing'\n",
       "\\item 'Rugby'\n",
       "\\item 'Rugby Sevens'\n",
       "\\item 'Sailing'\n",
       "\\item 'Shooting'\n",
       "\\item 'Short Track Speed Skating'\n",
       "\\item 'Skeleton'\n",
       "\\item 'Ski Jumping'\n",
       "\\item 'Snowboarding'\n",
       "\\item 'Softball'\n",
       "\\item 'Speed Skating'\n",
       "\\item 'Swimming'\n",
       "\\item 'Synchronized Swimming'\n",
       "\\item 'Table Tennis'\n",
       "\\item 'Taekwondo'\n",
       "\\item 'Tennis'\n",
       "\\item 'Trampolining'\n",
       "\\item 'Triathlon'\n",
       "\\item 'Tug-Of-War'\n",
       "\\item 'Volleyball'\n",
       "\\item 'Water Polo'\n",
       "\\item 'Weightlifting'\n",
       "\\item 'Wrestling'\n",
       "\\end{enumerate*}\n"
      ],
      "text/markdown": [
       "Bobsleigh\n",
       "**Levels**: 1. 'Aeronautics'\n",
       "2. 'Alpine Skiing'\n",
       "3. 'Alpinism'\n",
       "4. 'Archery'\n",
       "5. 'Art Competitions'\n",
       "6. 'Athletics'\n",
       "7. 'Badminton'\n",
       "8. 'Baseball'\n",
       "9. 'Basketball'\n",
       "10. 'Basque Pelota'\n",
       "11. 'Beach Volleyball'\n",
       "12. 'Biathlon'\n",
       "13. 'Bobsleigh'\n",
       "14. 'Boxing'\n",
       "15. 'Canoeing'\n",
       "16. 'Cricket'\n",
       "17. 'Croquet'\n",
       "18. 'Cross Country Skiing'\n",
       "19. 'Curling'\n",
       "20. 'Cycling'\n",
       "21. 'Diving'\n",
       "22. 'Equestrianism'\n",
       "23. 'Fencing'\n",
       "24. 'Figure Skating'\n",
       "25. 'Football'\n",
       "26. 'Freestyle Skiing'\n",
       "27. 'Golf'\n",
       "28. 'Gymnastics'\n",
       "29. 'Handball'\n",
       "30. 'Hockey'\n",
       "31. 'Ice Hockey'\n",
       "32. 'Jeu De Paume'\n",
       "33. 'Judo'\n",
       "34. 'Lacrosse'\n",
       "35. 'Luge'\n",
       "36. 'Military Ski Patrol'\n",
       "37. 'Modern Pentathlon'\n",
       "38. 'Motorboating'\n",
       "39. 'Nordic Combined'\n",
       "40. 'Polo'\n",
       "41. 'Racquets'\n",
       "42. 'Rhythmic Gymnastics'\n",
       "43. 'Roque'\n",
       "44. 'Rowing'\n",
       "45. 'Rugby'\n",
       "46. 'Rugby Sevens'\n",
       "47. 'Sailing'\n",
       "48. 'Shooting'\n",
       "49. 'Short Track Speed Skating'\n",
       "50. 'Skeleton'\n",
       "51. 'Ski Jumping'\n",
       "52. 'Snowboarding'\n",
       "53. 'Softball'\n",
       "54. 'Speed Skating'\n",
       "55. 'Swimming'\n",
       "56. 'Synchronized Swimming'\n",
       "57. 'Table Tennis'\n",
       "58. 'Taekwondo'\n",
       "59. 'Tennis'\n",
       "60. 'Trampolining'\n",
       "61. 'Triathlon'\n",
       "62. 'Tug-Of-War'\n",
       "63. 'Volleyball'\n",
       "64. 'Water Polo'\n",
       "65. 'Weightlifting'\n",
       "66. 'Wrestling'\n",
       "\n",
       "\n"
      ],
      "text/plain": [
       "[1] Bobsleigh\n",
       "66 Levels: Aeronautics Alpine Skiing Alpinism Archery ... Wrestling"
      ]
     },
     "metadata": {},
     "output_type": "display_data"
    }
   ],
   "source": [
    "res = df[df$Year == 2002 & !is.na(df$Weight) & df$Weight == max(df[df$Year == 2002,]['Weight'], na.rm=TRUE),]\n",
    "res[1,'Sport']"
   ]
  },
  {
   "cell_type": "markdown",
   "metadata": {},
   "source": [
    "__5. How many times did Pawe Abratkiewicz participate in the Olympics held in different years?__\n",
    "\n",
    "- 0\n",
    "- 1 \n",
    "- 2\n",
    "- 3 "
   ]
  },
  {
   "cell_type": "code",
   "execution_count": 89,
   "metadata": {},
   "outputs": [
    {
     "data": {
      "text/html": [
       "3"
      ],
      "text/latex": [
       "3"
      ],
      "text/markdown": [
       "3"
      ],
      "text/plain": [
       "[1] 3"
      ]
     },
     "metadata": {},
     "output_type": "display_data"
    }
   ],
   "source": [
    "new_df = df[df$Name == 'Pawe Abratkiewicz',]\n",
    "nrow(new_df[!duplicated(new_df$Games),])"
   ]
  },
  {
   "cell_type": "markdown",
   "metadata": {},
   "source": [
    "__6. How many silver medals in tennis did Australia win at the 2000 Olympics?__\n",
    "\n",
    "- 0\n",
    "- 1 \n",
    "- 2 \n",
    "- 3 "
   ]
  },
  {
   "cell_type": "code",
   "execution_count": 79,
   "metadata": {},
   "outputs": [
    {
     "data": {
      "text/html": [
       "2"
      ],
      "text/latex": [
       "2"
      ],
      "text/markdown": [
       "2"
      ],
      "text/plain": [
       "[1] 2"
      ]
     },
     "metadata": {},
     "output_type": "display_data"
    }
   ],
   "source": [
    "nrow(df[df$Year == 2000 & df$Team == 'Australia' & df$Sport == 'Tennis' & !is.na(df$Medal) & df$Medal == 'Silver',])"
   ]
  },
  {
   "cell_type": "markdown",
   "metadata": {},
   "source": [
    "__7. Is it true that Switzerland won fewer medals than Serbia at the 2016 Olympics? Do not consider NaN values in _Medal_ column.__ \n",
    "\n",
    "- Yes \n",
    "- No"
   ]
  },
  {
   "cell_type": "code",
   "execution_count": 130,
   "metadata": {},
   "outputs": [
    {
     "name": "stdout",
     "output_type": "stream",
     "text": [
      "YES"
     ]
    }
   ],
   "source": [
    "switz = nrow(df[df$Year == 2016 & df$Team == 'Switzerland' & !is.na(df$Medal),])\n",
    "serbia = nrow(df[df$Year == 2016 & df$Team == 'Serbia' & !is.na(df$Medal),])\n",
    "if (switz < serbia){\n",
    "    cat('YES')\n",
    "} else {\n",
    "    cat('NO') }"
   ]
  },
  {
   "cell_type": "markdown",
   "metadata": {},
   "source": [
    "__8. What age category did the fewest and the most participants of the 2014 Olympics belong to?__\n",
    "- [45-55] and [25-35) correspondingly\n",
    "- [45-55] and [15-25) correspondingly\n",
    "- [35-45] and [25-35) correspondingly\n",
    "- [45-55] and [35-45) correspondingly"
   ]
  },
  {
   "cell_type": "code",
   "execution_count": 123,
   "metadata": {},
   "outputs": [
    {
     "name": "stdout",
     "output_type": "stream",
     "text": [
      "fewest: 45 - 55 \n",
      "most: 25 - 35"
     ]
    }
   ],
   "source": [
    "new_df = df[df$Year == 2014,]\n",
    "new_df = new_df[!duplicated(new_df$ID),]\n",
    "most = 0\n",
    "m_age = 0\n",
    "fewest = Inf\n",
    "f_age = 0\n",
    "\n",
    "for (n in seq(15, 46, by=10)){\n",
    "    t = nrow(new_df[new_df$Year == 2014 & new_df$Age >= n & new_df$Age < n + 10 ,])\n",
    "    if (t > most) {\n",
    "        most = t\n",
    "        m_age = n }\n",
    "    if (0 < t & t < fewest) {\n",
    "        fewest = t\n",
    "        f_age = n } }\n",
    "\n",
    "cat('fewest:', f_age,'-', f_age + 10,'\\n')\n",
    "cat('most:', m_age,'-', m_age + 10)"
   ]
  },
  {
   "cell_type": "markdown",
   "metadata": {},
   "source": [
    "__9. Is it true that there were Summer Olympics held in Lake Placid? Is it true that there were Winter Olympics held in Sankt Moritz?__\n",
    "\n",
    "- Yes, Yes\n",
    "- Yes, No\n",
    "- No, Yes \n",
    "- No, No "
   ]
  },
  {
   "cell_type": "code",
   "execution_count": 128,
   "metadata": {},
   "outputs": [
    {
     "name": "stdout",
     "output_type": "stream",
     "text": [
      "Lake Placid: No \n",
      "Sankt Moritz: Yes"
     ]
    }
   ],
   "source": [
    "if (nrow(df[df$Season == 'Summer' & df$City == 'Lake Placid',]) > 0) {\n",
    "    cat('Lake Placid:', 'Yes', '\\n')\n",
    "} else {\n",
    "    cat('Lake Placid:', 'No', '\\n')\n",
    "}\n",
    "if (nrow(df[df$Season == 'Winter' & df$City == 'Sankt Moritz',]) > 0) {\n",
    "    cat('Sankt Moritz:', 'Yes')\n",
    "} else {\n",
    "    cat('Sankt Moritz:', 'No')\n",
    "}"
   ]
  },
  {
   "cell_type": "markdown",
   "metadata": {},
   "source": [
    "__10. What is the absolute difference between the number of unique sports at the 1995 Olympics and 2016 Olympics?__\n",
    "\n",
    "- 16\n",
    "- 24\n",
    "- 26\n",
    "- 34"
   ]
  },
  {
   "cell_type": "code",
   "execution_count": 116,
   "metadata": {},
   "outputs": [
    {
     "data": {
      "text/html": [
       "34"
      ],
      "text/latex": [
       "34"
      ],
      "text/markdown": [
       "34"
      ],
      "text/plain": [
       "[1] 34"
      ]
     },
     "metadata": {},
     "output_type": "display_data"
    }
   ],
   "source": [
    "sports_1995 = df[df$Year == 1995,]\n",
    "sports_2016 = df[df$Year == 2016,]\n",
    "abs(nrow(sports_1995[!duplicated(sports_1995$Sport),]) - nrow(sports_2016[!duplicated(sports_2016$Sport),]))"
   ]
  }
 ],
 "metadata": {
  "kernelspec": {
   "display_name": "R",
   "language": "R",
   "name": "ir"
  },
  "language_info": {
   "codemirror_mode": "r",
   "file_extension": ".r",
   "mimetype": "text/x-r-source",
   "name": "R",
   "pygments_lexer": "r",
   "version": "3.6.3"
  }
 },
 "nbformat": 4,
 "nbformat_minor": 4
}
