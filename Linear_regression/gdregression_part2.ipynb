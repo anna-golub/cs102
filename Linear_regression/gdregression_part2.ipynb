{
 "cells": [
  {
   "cell_type": "code",
   "execution_count": 1,
   "metadata": {},
   "outputs": [],
   "source": [
    "%matplotlib inline\n",
    "\n",
    "import pandas as pd\n",
    "import numpy as np\n",
    "import matplotlib.pyplot as plt\n",
    "import seaborn as sns\n",
    "plt.style.use(\"seaborn\")"
   ]
  },
  {
   "cell_type": "code",
   "execution_count": 2,
   "metadata": {},
   "outputs": [],
   "source": [
    "from sklearn.datasets import load_boston\n",
    "boston = load_boston()"
   ]
  },
  {
   "cell_type": "code",
   "execution_count": 3,
   "metadata": {},
   "outputs": [
    {
     "data": {
      "text/html": [
       "<div>\n",
       "<style scoped>\n",
       "    .dataframe tbody tr th:only-of-type {\n",
       "        vertical-align: middle;\n",
       "    }\n",
       "\n",
       "    .dataframe tbody tr th {\n",
       "        vertical-align: top;\n",
       "    }\n",
       "\n",
       "    .dataframe thead th {\n",
       "        text-align: right;\n",
       "    }\n",
       "</style>\n",
       "<table border=\"1\" class=\"dataframe\">\n",
       "  <thead>\n",
       "    <tr style=\"text-align: right;\">\n",
       "      <th></th>\n",
       "      <th>CRIM</th>\n",
       "      <th>ZN</th>\n",
       "      <th>INDUS</th>\n",
       "      <th>CHAS</th>\n",
       "      <th>NOX</th>\n",
       "      <th>RM</th>\n",
       "      <th>AGE</th>\n",
       "      <th>DIS</th>\n",
       "      <th>RAD</th>\n",
       "      <th>TAX</th>\n",
       "      <th>PTRATIO</th>\n",
       "      <th>B</th>\n",
       "      <th>LSTAT</th>\n",
       "      <th>MEDV</th>\n",
       "    </tr>\n",
       "  </thead>\n",
       "  <tbody>\n",
       "    <tr>\n",
       "      <th>0</th>\n",
       "      <td>0.00632</td>\n",
       "      <td>18.0</td>\n",
       "      <td>2.31</td>\n",
       "      <td>0.0</td>\n",
       "      <td>0.538</td>\n",
       "      <td>6.575</td>\n",
       "      <td>65.2</td>\n",
       "      <td>4.0900</td>\n",
       "      <td>1.0</td>\n",
       "      <td>296.0</td>\n",
       "      <td>15.3</td>\n",
       "      <td>396.90</td>\n",
       "      <td>4.98</td>\n",
       "      <td>24.0</td>\n",
       "    </tr>\n",
       "    <tr>\n",
       "      <th>1</th>\n",
       "      <td>0.02731</td>\n",
       "      <td>0.0</td>\n",
       "      <td>7.07</td>\n",
       "      <td>0.0</td>\n",
       "      <td>0.469</td>\n",
       "      <td>6.421</td>\n",
       "      <td>78.9</td>\n",
       "      <td>4.9671</td>\n",
       "      <td>2.0</td>\n",
       "      <td>242.0</td>\n",
       "      <td>17.8</td>\n",
       "      <td>396.90</td>\n",
       "      <td>9.14</td>\n",
       "      <td>21.6</td>\n",
       "    </tr>\n",
       "    <tr>\n",
       "      <th>2</th>\n",
       "      <td>0.02729</td>\n",
       "      <td>0.0</td>\n",
       "      <td>7.07</td>\n",
       "      <td>0.0</td>\n",
       "      <td>0.469</td>\n",
       "      <td>7.185</td>\n",
       "      <td>61.1</td>\n",
       "      <td>4.9671</td>\n",
       "      <td>2.0</td>\n",
       "      <td>242.0</td>\n",
       "      <td>17.8</td>\n",
       "      <td>392.83</td>\n",
       "      <td>4.03</td>\n",
       "      <td>34.7</td>\n",
       "    </tr>\n",
       "    <tr>\n",
       "      <th>3</th>\n",
       "      <td>0.03237</td>\n",
       "      <td>0.0</td>\n",
       "      <td>2.18</td>\n",
       "      <td>0.0</td>\n",
       "      <td>0.458</td>\n",
       "      <td>6.998</td>\n",
       "      <td>45.8</td>\n",
       "      <td>6.0622</td>\n",
       "      <td>3.0</td>\n",
       "      <td>222.0</td>\n",
       "      <td>18.7</td>\n",
       "      <td>394.63</td>\n",
       "      <td>2.94</td>\n",
       "      <td>33.4</td>\n",
       "    </tr>\n",
       "    <tr>\n",
       "      <th>4</th>\n",
       "      <td>0.06905</td>\n",
       "      <td>0.0</td>\n",
       "      <td>2.18</td>\n",
       "      <td>0.0</td>\n",
       "      <td>0.458</td>\n",
       "      <td>7.147</td>\n",
       "      <td>54.2</td>\n",
       "      <td>6.0622</td>\n",
       "      <td>3.0</td>\n",
       "      <td>222.0</td>\n",
       "      <td>18.7</td>\n",
       "      <td>396.90</td>\n",
       "      <td>5.33</td>\n",
       "      <td>36.2</td>\n",
       "    </tr>\n",
       "  </tbody>\n",
       "</table>\n",
       "</div>"
      ],
      "text/plain": [
       "      CRIM    ZN  INDUS  CHAS    NOX     RM   AGE     DIS  RAD    TAX  \\\n",
       "0  0.00632  18.0   2.31   0.0  0.538  6.575  65.2  4.0900  1.0  296.0   \n",
       "1  0.02731   0.0   7.07   0.0  0.469  6.421  78.9  4.9671  2.0  242.0   \n",
       "2  0.02729   0.0   7.07   0.0  0.469  7.185  61.1  4.9671  2.0  242.0   \n",
       "3  0.03237   0.0   2.18   0.0  0.458  6.998  45.8  6.0622  3.0  222.0   \n",
       "4  0.06905   0.0   2.18   0.0  0.458  7.147  54.2  6.0622  3.0  222.0   \n",
       "\n",
       "   PTRATIO       B  LSTAT  MEDV  \n",
       "0     15.3  396.90   4.98  24.0  \n",
       "1     17.8  396.90   9.14  21.6  \n",
       "2     17.8  392.83   4.03  34.7  \n",
       "3     18.7  394.63   2.94  33.4  \n",
       "4     18.7  396.90   5.33  36.2  "
      ]
     },
     "execution_count": 3,
     "metadata": {},
     "output_type": "execute_result"
    }
   ],
   "source": [
    "data = pd.DataFrame(data=boston.data, columns=boston.feature_names)\n",
    "data[\"MEDV\"] = boston.target\n",
    "data.head()"
   ]
  },
  {
   "cell_type": "code",
   "execution_count": 4,
   "metadata": {},
   "outputs": [],
   "source": [
    "from sklearn.model_selection import train_test_split\n",
    "from math import sqrt\n",
    "import numpy as np"
   ]
  },
  {
   "cell_type": "markdown",
   "metadata": {},
   "source": [
    "Векторизованная реализация Mini-Batch Gradient Descent"
   ]
  },
  {
   "cell_type": "code",
   "execution_count": 814,
   "metadata": {},
   "outputs": [],
   "source": [
    "class MiniBatchGDR:\n",
    "\n",
    "    def __init__(self, alpha=0.01, epochs=100, batch_size=10):\n",
    "        self.alpha = alpha\n",
    "        self.epochs = epochs\n",
    "        self.batch_size = batch_size\n",
    "\n",
    "    def fit(self, X, y):\n",
    "        precision = 0.001\n",
    "\n",
    "        if len(X.shape) == 1:\n",
    "            m, n = X.shape[0], 1\n",
    "        else:\n",
    "            m, n = X.shape\n",
    "            \n",
    "        self.theta = np.full((n,), 0.33)\n",
    "        \n",
    "        for j in range(self.epochs):\n",
    "            theta_old = tuple(self.theta)\n",
    "\n",
    "            for k in range(0, m, self.batch_size):\n",
    "                size = min(self.batch_size, m - k)\n",
    "                start = k\n",
    "                stop = k + size\n",
    "#                 print('start =', start, 'stop =', stop, 'size =', size)\n",
    "\n",
    "                X_cur = X[start:stop]\n",
    "                y_cur = y[start:stop]\n",
    "\n",
    "                y_hypoth = X_cur.dot(self.theta)\n",
    "                self.grad = X_cur.T.dot(y_hypoth.values - y_cur.values) / size\n",
    "\n",
    "#                 if not self.gradient_check(X_cur, y_cur):\n",
    "#                     print('gradient is incorrect!')\n",
    "#                     return\n",
    "                self.theta = self.theta - self.alpha * self.grad\n",
    "\n",
    "            precise = True\n",
    "            for i in range(n):\n",
    "                if abs(theta_old[i] - self.theta[i]) > precision:\n",
    "                    precise = False\n",
    "                    break\n",
    "            if precise:\n",
    "                print('epoch', str(j) + ': precise enough')\n",
    "                break\n",
    "\n",
    "    def predict(self, X_test):\n",
    "        return X_test.dot(self.theta)\n",
    "\n",
    "    def gradient_check(self, X, y):\n",
    "        e = 10e-7\n",
    "        if len(X.shape) == 1:\n",
    "            m, n = X.shape[0], 1\n",
    "        else:\n",
    "            m, n = X.shape[0], X.shape[1]\n",
    "\n",
    "        for j in range(len(self.grad)):\n",
    "            vector = np.full((n,), 0)\n",
    "            vector[j] = 1\n",
    "            cur_theta = self.theta + vector * e\n",
    "            J_plus = sum((X.dot(cur_theta) - y) ** 2) / (2 * m)\n",
    "\n",
    "            cur_theta = self.theta - vector * e\n",
    "            J_minus = sum((X.dot(cur_theta) - y) ** 2) / (2 * m)\n",
    "\n",
    "            if abs((J_plus - J_minus) / (2 * e) - self.grad[j]) > e:\n",
    "                return False\n",
    "        return True"
   ]
  },
  {
   "cell_type": "code",
   "execution_count": 456,
   "metadata": {},
   "outputs": [],
   "source": [
    "def min_max(X):\n",
    "    if len(X.shape) == 1:\n",
    "        X = [(x - min(X)) / (max(X) - min(X)) for x in X]\n",
    "        return\n",
    "    \n",
    "    for col in X.columns:\n",
    "        if max(X[col]) == min(X[col]):\n",
    "            X[col] = 1\n",
    "        else:\n",
    "            X[col] = [(x - min(X[col])) / (max(X[col]) - min(X[col])) for x in X[col]]"
   ]
  },
  {
   "cell_type": "code",
   "execution_count": 682,
   "metadata": {},
   "outputs": [],
   "source": [
    "def z_scaler(X):\n",
    "    if len(X.shape) == 1:\n",
    "        x_mean = sum(X) / len(X)\n",
    "        std_dev = sqrt(sum([(x - x_mean) ** 2 for x in X]) / (len(X) - 1))\n",
    "        X = [(x - x_mean) / std_dev for x in X]\n",
    "        return\n",
    "    \n",
    "    for col in X.columns:\n",
    "        x_mean = sum(X[col]) / len(X[col])\n",
    "        std_dev = sqrt(sum([(x - x_mean) ** 2 for x in X[col]]) / (len(X[col]) - 1))\n",
    "        X[col] = [(x - x_mean) / std_dev for x in X[col]]"
   ]
  },
  {
   "cell_type": "code",
   "execution_count": 680,
   "metadata": {},
   "outputs": [],
   "source": [
    "def rmse(y_hypoth, y):\n",
    "    m = len(y)\n",
    "    return sqrt(sum((y_hypoth.values - y.values) ** 2) / m)"
   ]
  },
  {
   "cell_type": "code",
   "execution_count": 681,
   "metadata": {},
   "outputs": [],
   "source": [
    "def r_squared(y_hypoth, y):\n",
    "    m = len(y)\n",
    "    y_mean = sum(y) / m\n",
    "    return 1 - sum((y_hypoth - y_mean)** 2) / sum((y - y_mean)** 2)"
   ]
  },
  {
   "cell_type": "markdown",
   "metadata": {},
   "source": [
    "Mini-Batch Gradient Descent для признаков RM и LSTAT"
   ]
  },
  {
   "cell_type": "code",
   "execution_count": 833,
   "metadata": {},
   "outputs": [],
   "source": [
    "X_filtered = data[(data[\"MEDV\"] < 50)][[\"RM\", \"LSTAT\"]]\n",
    "X_filtered[\"BIAS\"] = 1\n",
    "y_filtered = data[(data[\"MEDV\"] < 50)][\"MEDV\"]"
   ]
  },
  {
   "cell_type": "code",
   "execution_count": 834,
   "metadata": {},
   "outputs": [],
   "source": [
    "min_max(X_filtered)\n",
    "min_max(y_filtered)\n",
    "\n",
    "# z_scaler(X_filtered_poly)\n",
    "# z_scaler(y_filtered)"
   ]
  },
  {
   "cell_type": "code",
   "execution_count": 838,
   "metadata": {},
   "outputs": [
    {
     "name": "stdout",
     "output_type": "stream",
     "text": [
      "epoch 781: precise enough\n",
      "Wall time: 1min 23s\n"
     ]
    }
   ],
   "source": [
    "X_train, X_test, Y_train, Y_test = train_test_split(X_filtered, y_filtered, test_size=0.33, random_state=18)\n",
    "model = MiniBatchGDR(alpha=0.01, epochs=1000, batch_size=10)\n",
    "%time model.fit(X_train, Y_train)"
   ]
  },
  {
   "cell_type": "code",
   "execution_count": 839,
   "metadata": {},
   "outputs": [
    {
     "data": {
      "text/plain": [
       "RM       20.385402\n",
       "LSTAT   -22.895037\n",
       "BIAS     17.809678\n",
       "dtype: float64"
      ]
     },
     "execution_count": 839,
     "metadata": {},
     "output_type": "execute_result"
    }
   ],
   "source": [
    "model.theta"
   ]
  },
  {
   "cell_type": "code",
   "execution_count": 840,
   "metadata": {},
   "outputs": [
    {
     "data": {
      "text/plain": [
       "(4.680611059690624, 0.27618167676272065)"
      ]
     },
     "execution_count": 840,
     "metadata": {},
     "output_type": "execute_result"
    }
   ],
   "source": [
    "Y_hypoth = model.predict(X_test)\n",
    "rmse(Y_hypoth, Y_test), r_squared(Y_hypoth, Y_test)"
   ]
  },
  {
   "cell_type": "markdown",
   "metadata": {},
   "source": [
    "Lasso Regression"
   ]
  },
  {
   "cell_type": "code",
   "execution_count": 772,
   "metadata": {},
   "outputs": [],
   "source": [
    "class LassoRegression:\n",
    "\n",
    "    def __init__(self, n_iter=100, l1 = 0.1, intercept=False):\n",
    "        self.n_iter = n_iter\n",
    "        self.l1 = l1\n",
    "        self.intercept = intercept\n",
    "\n",
    "    def fit(self, X, y):\n",
    "        precision = 0.001\n",
    "\n",
    "        if len(X.shape) == 1:\n",
    "            m, n = X.shape[0], 1\n",
    "        else:\n",
    "            m, n = X.shape\n",
    "        \n",
    "        self.theta = np.full((n,), 0.33)\n",
    "        col_names = X.columns\n",
    "        \n",
    "        for i in range(self.n_iter):\n",
    "            theta_old = tuple(self.theta)\n",
    "            \n",
    "            for j in range(n):\n",
    "                \n",
    "                x_j = X[col_names[j]]                \n",
    "                y_hypoth = X.dot(self.theta)\n",
    "                rho = x_j.T.dot(pd.Series(y.values - y_hypoth.values + self.theta[j] * x_j))\n",
    "                z_j = sum(x_j ** 2)\n",
    "            \n",
    "                if self.intercept and j == 0:\n",
    "                    self.theta[j] = rho / z_j\n",
    "                    continue\n",
    "                    \n",
    "                if rho < - self.l1:  \n",
    "                    self.theta[j] = (rho + self.l1) / z_j\n",
    "                elif rho > self.l1:\n",
    "                    self.theta[j] = (rho - self.l1) / z_j\n",
    "                else:\n",
    "                    self.theta[j] = int(0)\n",
    "\n",
    "            precise = True\n",
    "            for k in range(n):\n",
    "                if abs(theta_old[k] - self.theta[k]) > precision:\n",
    "                    precise = False\n",
    "                    break\n",
    "            if precise:\n",
    "                print('iteration', str(i) + ': precise enough')\n",
    "                break\n",
    "\n",
    "    def predict(self, X_test):\n",
    "        return X_test.dot(self.theta)"
   ]
  },
  {
   "cell_type": "code",
   "execution_count": 1,
   "metadata": {},
   "outputs": [
    {
     "ename": "NameError",
     "evalue": "name 'train_test_split' is not defined",
     "traceback": [
      "\u001b[1;31m---------------------------------------------------------------------------\u001b[0m",
      "\u001b[1;31mNameError\u001b[0m                                 Traceback (most recent call last)",
      "\u001b[1;32m<ipython-input-1-58e6c834d756>\u001b[0m in \u001b[0;36m<module>\u001b[1;34m\u001b[0m\n\u001b[1;32m----> 1\u001b[1;33m \u001b[0mX_train\u001b[0m\u001b[1;33m,\u001b[0m \u001b[0mX_test\u001b[0m\u001b[1;33m,\u001b[0m \u001b[0mY_train\u001b[0m\u001b[1;33m,\u001b[0m \u001b[0mY_test\u001b[0m \u001b[1;33m=\u001b[0m \u001b[0mtrain_test_split\u001b[0m\u001b[1;33m(\u001b[0m\u001b[0mX_filtered_poly\u001b[0m\u001b[1;33m,\u001b[0m \u001b[0my_filtered\u001b[0m\u001b[1;33m,\u001b[0m \u001b[0mtest_size\u001b[0m\u001b[1;33m=\u001b[0m\u001b[1;36m0.33\u001b[0m\u001b[1;33m,\u001b[0m \u001b[0mrandom_state\u001b[0m\u001b[1;33m=\u001b[0m\u001b[1;36m18\u001b[0m\u001b[1;33m)\u001b[0m\u001b[1;33m\u001b[0m\u001b[1;33m\u001b[0m\u001b[0m\n\u001b[0m\u001b[0;32m      2\u001b[0m \u001b[0mmodel\u001b[0m \u001b[1;33m=\u001b[0m \u001b[0mLassoRegression\u001b[0m\u001b[1;33m(\u001b[0m\u001b[0mn_iter\u001b[0m\u001b[1;33m=\u001b[0m\u001b[1;36m1000\u001b[0m\u001b[1;33m,\u001b[0m \u001b[0ml1\u001b[0m\u001b[1;33m=\u001b[0m\u001b[1;36m100\u001b[0m\u001b[1;33m,\u001b[0m \u001b[0mintercept\u001b[0m\u001b[1;33m=\u001b[0m\u001b[1;32mTrue\u001b[0m\u001b[1;33m)\u001b[0m\u001b[1;33m\u001b[0m\u001b[1;33m\u001b[0m\u001b[0m\n\u001b[0;32m      3\u001b[0m \u001b[0mget_ipython\u001b[0m\u001b[1;33m(\u001b[0m\u001b[1;33m)\u001b[0m\u001b[1;33m.\u001b[0m\u001b[0mrun_line_magic\u001b[0m\u001b[1;33m(\u001b[0m\u001b[1;34m'time'\u001b[0m\u001b[1;33m,\u001b[0m \u001b[1;34m'model.fit(X_train, Y_train)'\u001b[0m\u001b[1;33m)\u001b[0m\u001b[1;33m\u001b[0m\u001b[1;33m\u001b[0m\u001b[0m\n",
      "\u001b[1;31mNameError\u001b[0m: name 'train_test_split' is not defined"
     ],
     "output_type": "error"
    }
   ],
   "source": [
    "X_train, X_test, Y_train, Y_test = train_test_split(X_filtered_poly, y_filtered, test_size=0.33, random_state=18)\n",
    "model = LassoRegression(n_iter=1000, l1=100, intercept=True)\n",
    "%time model.fit(X_train, Y_train)"
   ]
  },
  {
   "cell_type": "code",
   "execution_count": 788,
   "metadata": {},
   "outputs": [
    {
     "name": "stdout",
     "output_type": "stream",
     "text": [
      "1 : 22.752662163818545\n",
      "RM LSTAT : -6.5236521252329345\n",
      "RM^3 : 11.076092914040673\n",
      "RM LSTAT AGE : -6.299844976300655\n",
      "RAD^3 : -2.8509651440226538\n"
     ]
    }
   ],
   "source": [
    "for i in range(len(poly.get_feature_names(X_filtered.columns))):\n",
    "    if model.theta[i] != 0:\n",
    "        print(poly.get_feature_names(X_filtered.columns)[i], ':', model.theta[i])"
   ]
  },
  {
   "cell_type": "code",
   "execution_count": 786,
   "metadata": {},
   "outputs": [
    {
     "data": {
      "text/plain": [
       "(5.041706194482526, 0.6852675758294726)"
      ]
     },
     "execution_count": 786,
     "metadata": {},
     "output_type": "execute_result"
    }
   ],
   "source": [
    "Y_hypoth = model.predict(X_test)\n",
    "rmse(Y_hypoth, Y_test), r_squared(Y_hypoth, Y_test)"
   ]
  },
  {
   "cell_type": "markdown",
   "metadata": {},
   "source": [
    "Кривые обучения для Lasso Regression"
   ]
  },
  {
   "cell_type": "code",
   "execution_count": 796,
   "metadata": {},
   "outputs": [
    {
     "name": "stdout",
     "output_type": "stream",
     "text": [
      "1\n",
      "iteration 2: precise enough\n",
      "Wall time: 942 ms\n",
      "10\n",
      "iteration 2: precise enough\n",
      "Wall time: 976 ms\n",
      "50\n",
      "iteration 4: precise enough\n",
      "Wall time: 1.66 s\n",
      "100\n",
      "iteration 38: precise enough\n",
      "Wall time: 12.7 s\n",
      "200\n",
      "iteration 169: precise enough\n",
      "Wall time: 55.7 s\n",
      "275\n",
      "iteration 245: precise enough\n",
      "Wall time: 1min 23s\n",
      "328\n",
      "iteration 229: precise enough\n",
      "Wall time: 1min 18s\n"
     ]
    }
   ],
   "source": [
    "X_train, X_test, Y_train, Y_test = train_test_split(X_filtered_poly, y_filtered, test_size=0.33, random_state=18)\n",
    "set_sizes = [1, 10, 50, 100, 200, 275, 328]\n",
    "\n",
    "train_mse, test_mse = [0] * len(set_sizes), [0] * len(set_sizes)\n",
    "\n",
    "for j in range(len(set_sizes)):\n",
    "    size = set_sizes[j]\n",
    "    print(size)\n",
    "    X_train_cur, Y_train_cur = X_train[:size], Y_train[:size]\n",
    "    \n",
    "    model = LassoRegression(n_iter=1000, l1=100, intercept=True)\n",
    "    %time model.fit(X_train_cur, Y_train_cur)\n",
    "#     print(model.theta)\n",
    "    \n",
    "    train_mse[j] = sum((X_train_cur.dot(model.theta).values - Y_train_cur.values)**2)\n",
    "    Y_hypoth = model.predict(X_test)\n",
    "    test_mse[j] = sum((Y_hypoth.values - Y_test.values)**2)"
   ]
  },
  {
   "cell_type": "code",
   "execution_count": 797,
   "metadata": {},
   "outputs": [
    {
     "name": "stdout",
     "output_type": "stream",
     "text": [
      "[0.0, 183.82100000000003, 2860.085, 4628.156130017538, 6545.109753055131, 6969.7012337859105, 7264.431878343311]\n",
      "[11675.459999999995, 13346.705800000005, 11624.728200000001, 9698.264957379513, 6788.95926026811, 4919.062386913467, 4117.845818940322]\n"
     ]
    }
   ],
   "source": [
    "print(train_mse)\n",
    "print(test_mse)"
   ]
  },
  {
   "cell_type": "code",
   "execution_count": 798,
   "metadata": {},
   "outputs": [
    {
     "data": {
      "text/plain": [
       "[<matplotlib.lines.Line2D at 0x155a3450>]"
      ]
     },
     "execution_count": 798,
     "metadata": {},
     "output_type": "execute_result"
    },
    {
     "data": {
      "image/png": "[encoded data removed]",
      "text/plain": [
       "<Figure size 432x288 with 1 Axes>"
      ]
     },
     "metadata": {},
     "output_type": "display_data"
    }
   ],
   "source": [
    "plt.plot(set_sizes, train_mse, '.b-')\n",
    "plt.xlabel(\"training set size\")\n",
    "plt.ylabel(\"MSE\")\n",
    "plt.plot(set_sizes, test_mse, '.r-')"
   ]
  },
  {
   "cell_type": "markdown",
   "metadata": {},
   "source": [
    "Пробуем различные значения коэффициента l1"
   ]
  },
  {
   "cell_type": "code",
   "execution_count": 806,
   "metadata": {},
   "outputs": [
    {
     "name": "stdout",
     "output_type": "stream",
     "text": [
      "1\n",
      "Wall time: 4min 22s\n",
      "10\n",
      "iteration 473: precise enough\n",
      "Wall time: 1min 32s\n",
      "25\n",
      "iteration 316: precise enough\n",
      "Wall time: 1min 1s\n",
      "50\n",
      "iteration 409: precise enough\n",
      "Wall time: 1min 24s\n",
      "100\n",
      "iteration 229: precise enough\n",
      "Wall time: 45.7 s\n",
      "150\n",
      "iteration 241: precise enough\n",
      "Wall time: 46.8 s\n",
      "200\n",
      "iteration 111: precise enough\n",
      "Wall time: 22.7 s\n",
      "250\n",
      "iteration 108: precise enough\n",
      "Wall time: 20.5 s\n"
     ]
    }
   ],
   "source": [
    "X_train, X_test, Y_train, Y_test = train_test_split(X_filtered_poly, y_filtered, test_size=0.33, random_state=18)\n",
    "l_options = [1, 10, 25, 50, 100, 150, 200, 250]\n",
    "\n",
    "train_mse, test_mse = [0] * len(l_options), [0] * len(l_options)\n",
    "\n",
    "for j in range(len(l_options)):\n",
    "    l_this = l_options[j]\n",
    "    print(l_this)    \n",
    "    model = LassoRegression(n_iter=1000, l1=l_this, intercept=True)\n",
    "    %time model.fit(X_train, Y_train)\n",
    "    \n",
    "    train_mse[j] = sum((X_train.dot(model.theta).values - Y_train.values)**2)\n",
    "    Y_hypoth = model.predict(X_test)\n",
    "    test_mse[j] = sum((Y_hypoth.values - Y_test.values)**2)"
   ]
  },
  {
   "cell_type": "code",
   "execution_count": 807,
   "metadata": {},
   "outputs": [
    {
     "name": "stdout",
     "output_type": "stream",
     "text": [
      "[2890.2055002225284, 4285.114838329627, 4829.59635783153, 5627.021170854211, 7264.431878343311, 10150.53632309801, 11789.831732686504, 13169.92199385639]\n",
      "[1414.8642420721192, 1856.5345497528335, 2240.5755922976196, 2845.044368172322, 4117.845818940322, 6252.483219555849, 7519.262426982587, 8582.059835560238]\n"
     ]
    }
   ],
   "source": [
    "print(train_mse)\n",
    "print(test_mse)"
   ]
  },
  {
   "cell_type": "code",
   "execution_count": 808,
   "metadata": {},
   "outputs": [
    {
     "data": {
      "text/plain": [
       "[<matplotlib.lines.Line2D at 0x156be990>]"
      ]
     },
     "execution_count": 808,
     "metadata": {},
     "output_type": "execute_result"
    },
    {
     "data": {
      "image/png": "[encoded data removed]",
      "text/plain": [
       "<Figure size 432x288 with 1 Axes>"
      ]
     },
     "metadata": {},
     "output_type": "display_data"
    }
   ],
   "source": [
    "plt.plot(l_options, train_mse, '.b-')\n",
    "plt.xlabel(\"l1 coefficient value\")\n",
    "plt.ylabel(\"MSE\")\n",
    "plt.plot(l_options, test_mse, '.r-')"
   ]
  },
  {
   "cell_type": "code",
   "execution_count": null,
   "metadata": {},
   "outputs": [],
   "source": []
  }
 ],
 "metadata": {
  "kernelspec": {
   "display_name": "Python 3",
   "language": "python",
   "name": "python3"
  },
  "language_info": {
   "codemirror_mode": {
    "name": "ipython",
    "version": 3
   },
   "file_extension": ".py",
   "mimetype": "text/x-python",
   "name": "python",
   "nbconvert_exporter": "python",
   "pygments_lexer": "ipython3",
   "version": "3.7.4"
  }
 },
 "nbformat": 4,
 "nbformat_minor": 4
}
