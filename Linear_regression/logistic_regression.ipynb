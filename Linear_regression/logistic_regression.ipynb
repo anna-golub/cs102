{
 "cells": [
  {
   "cell_type": "code",
   "execution_count": 1,
   "metadata": {},
   "outputs": [],
   "source": [
    "import pandas as pd\n",
    "import numpy as np\n",
    "import matplotlib.pyplot as plt\n",
    "import seaborn as sns\n",
    "plt.style.use(\"seaborn\")\n",
    "\n",
    "from math import e, sqrt\n",
    "from sklearn.model_selection import train_test_split\n",
    "from sklearn.preprocessing import PolynomialFeatures"
   ]
  },
  {
   "cell_type": "code",
   "execution_count": 2,
   "metadata": {},
   "outputs": [
    {
     "data": {
      "text/html": [
       "<div>\n",
       "<style scoped>\n",
       "    .dataframe tbody tr th:only-of-type {\n",
       "        vertical-align: middle;\n",
       "    }\n",
       "\n",
       "    .dataframe tbody tr th {\n",
       "        vertical-align: top;\n",
       "    }\n",
       "\n",
       "    .dataframe thead th {\n",
       "        text-align: right;\n",
       "    }\n",
       "</style>\n",
       "<table border=\"1\" class=\"dataframe\">\n",
       "  <thead>\n",
       "    <tr style=\"text-align: right;\">\n",
       "      <th></th>\n",
       "      <th>sepal length (cm)</th>\n",
       "      <th>sepal width (cm)</th>\n",
       "      <th>petal length (cm)</th>\n",
       "      <th>petal width (cm)</th>\n",
       "      <th>class</th>\n",
       "    </tr>\n",
       "  </thead>\n",
       "  <tbody>\n",
       "    <tr>\n",
       "      <th>0</th>\n",
       "      <td>5.1</td>\n",
       "      <td>3.5</td>\n",
       "      <td>1.4</td>\n",
       "      <td>0.2</td>\n",
       "      <td>0</td>\n",
       "    </tr>\n",
       "    <tr>\n",
       "      <th>1</th>\n",
       "      <td>4.9</td>\n",
       "      <td>3.0</td>\n",
       "      <td>1.4</td>\n",
       "      <td>0.2</td>\n",
       "      <td>0</td>\n",
       "    </tr>\n",
       "    <tr>\n",
       "      <th>2</th>\n",
       "      <td>4.7</td>\n",
       "      <td>3.2</td>\n",
       "      <td>1.3</td>\n",
       "      <td>0.2</td>\n",
       "      <td>0</td>\n",
       "    </tr>\n",
       "    <tr>\n",
       "      <th>3</th>\n",
       "      <td>4.6</td>\n",
       "      <td>3.1</td>\n",
       "      <td>1.5</td>\n",
       "      <td>0.2</td>\n",
       "      <td>0</td>\n",
       "    </tr>\n",
       "    <tr>\n",
       "      <th>4</th>\n",
       "      <td>5.0</td>\n",
       "      <td>3.6</td>\n",
       "      <td>1.4</td>\n",
       "      <td>0.2</td>\n",
       "      <td>0</td>\n",
       "    </tr>\n",
       "  </tbody>\n",
       "</table>\n",
       "</div>"
      ],
      "text/plain": [
       "   sepal length (cm)  sepal width (cm)  petal length (cm)  petal width (cm)  \\\n",
       "0                5.1               3.5                1.4               0.2   \n",
       "1                4.9               3.0                1.4               0.2   \n",
       "2                4.7               3.2                1.3               0.2   \n",
       "3                4.6               3.1                1.5               0.2   \n",
       "4                5.0               3.6                1.4               0.2   \n",
       "\n",
       "   class  \n",
       "0      0  \n",
       "1      0  \n",
       "2      0  \n",
       "3      0  \n",
       "4      0  "
      ]
     },
     "execution_count": 2,
     "metadata": {},
     "output_type": "execute_result"
    }
   ],
   "source": [
    "from sklearn.datasets import load_iris\n",
    "iris = load_iris()\n",
    "data = pd.DataFrame(data=iris.data, columns=iris.feature_names)\n",
    "data['class'] = iris.target\n",
    "data.head()"
   ]
  },
  {
   "cell_type": "code",
   "execution_count": 7,
   "metadata": {},
   "outputs": [
    {
     "data": {
      "text/plain": [
       "array([0, 1, 2], dtype=int64)"
      ]
     },
     "execution_count": 7,
     "metadata": {},
     "output_type": "execute_result"
    }
   ],
   "source": [
    "data['class'].unique()"
   ]
  },
  {
   "cell_type": "code",
   "execution_count": 14,
   "metadata": {},
   "outputs": [
    {
     "data": {
      "text/plain": [
       "(150, 5)"
      ]
     },
     "execution_count": 14,
     "metadata": {},
     "output_type": "execute_result"
    }
   ],
   "source": [
    "data.shape"
   ]
  },
  {
   "cell_type": "markdown",
   "metadata": {},
   "source": [
    "Логистическая регрессия для двух классов"
   ]
  },
  {
   "cell_type": "code",
   "execution_count": 325,
   "metadata": {},
   "outputs": [],
   "source": [
    "class LogisticRegression:\n",
    "    def __init__(self, alpha=0.01, n_iter=1000, threshold=0.5, l2=0.01, intercept=False):\n",
    "        self.alpha = alpha\n",
    "        self.l2 = l2\n",
    "        self.threshold = threshold\n",
    "\n",
    "        self.n_iter = n_iter\n",
    "        self.intercept = intercept\n",
    "\n",
    "    def fit(self, X, y):\n",
    "        X, y = np.array(X), np.array(y)\n",
    "        precision = 0.001\n",
    "\n",
    "        if len(X.shape) == 1:\n",
    "            m, n = X.shape[0], 1\n",
    "        else:\n",
    "            m, n = X.shape\n",
    "\n",
    "        self.theta = np.full((n,), 0.33)\n",
    "        for j in range(self.n_iter):\n",
    "            theta_old = tuple(self.theta)\n",
    "\n",
    "            y_hypoth = X.dot(self.theta)\n",
    "            p = e ** y_hypoth / (e ** y_hypoth + 1)\n",
    "\n",
    "            self.grad = X.T.dot(p - y) / m\n",
    "            penalty = 2 * self.l2 * self.theta\n",
    "            if self.intercept:\n",
    "                penalty[0] = 0\n",
    "            self.grad += penalty\n",
    "\n",
    "#             check, J_plus, J_minus, diff = self.gradient_check(X, y)\n",
    "#             if not check:\n",
    "#                 print('gradient is incorrect!')\n",
    "#                 print(J_plus, J_minus, diff)\n",
    "#                 return\n",
    "\n",
    "            self.theta -= self.alpha * self.grad\n",
    "\n",
    "            precise = True\n",
    "            for i in range(n):\n",
    "                if abs(theta_old[i] - self.theta[i]) > precision:\n",
    "                    precise = False\n",
    "                    break\n",
    "            if precise:\n",
    "                print('iteration', str(j) + ': precise enough')\n",
    "                break\n",
    "\n",
    "    def predict(self, X_test):\n",
    "        y_hypoth = X_test.dot(self.theta)\n",
    "        p = e ** y_hypoth / (e ** y_hypoth + 1)\n",
    "\n",
    "        get_predictions = lambda x: 1 if x > self.threshold else 0\n",
    "        return pd.Series(np.vectorize(get_predictions)(p)), p\n",
    "\n",
    "    def gradient_check(self, X, y):\n",
    "        X, y = np.array(X), np.array(y)\n",
    "        if len(X.shape) == 1:\n",
    "            m, n = X.shape[0], 1\n",
    "        else:\n",
    "            m, n = X.shape[0], X.shape[1]\n",
    "\n",
    "        epsilon = 10e-7\n",
    "\n",
    "        for j in range(len(self.grad)):\n",
    "            vector = np.full((n,), 0)\n",
    "            vector[j] = 1\n",
    "\n",
    "            theta_plus = self.theta + vector * epsilon\n",
    "            y_hypoth_plus = X.dot(theta_plus)\n",
    "            p_plus = e ** y_hypoth_plus / (e ** y_hypoth_plus + 1)\n",
    "            J_plus = - sum(y * np.log(p_plus) + (1 - y) * np.log(1 - p_plus)) / m + self.l2 * sum(theta_plus ** 2)\n",
    "\n",
    "            theta_minus = self.theta - vector * epsilon\n",
    "            y_hypoth_minus = X.dot(theta_minus)\n",
    "            p_minus = e ** y_hypoth_minus / (e ** y_hypoth_minus + 1)\n",
    "            J_minus = - sum(y * np.log(p_minus) + (1 - y) * np.log(1 - p_minus)) / m + self.l2 * sum(theta_minus ** 2)\n",
    "\n",
    "            diff = abs((J_plus - J_minus) / (2 * epsilon) - self.grad[j])\n",
    "            if diff > epsilon:\n",
    "                return False, J_plus, J_minus, diff\n",
    "\n",
    "        return True, J_plus, J_minus, diff"
   ]
  },
  {
   "cell_type": "markdown",
   "metadata": {},
   "source": [
    "Логистическая регрессия для двух классов с использованием Mini-batch"
   ]
  },
  {
   "cell_type": "code",
   "execution_count": 3,
   "metadata": {},
   "outputs": [],
   "source": [
    "class MiniBatchLR:\n",
    "    def __init__(self, alpha=0.01, epochs=100, batch_size=10, threshold=0.5, l2=0.01, intercept=False):\n",
    "        self.alpha = alpha\n",
    "        self.l2 = l2\n",
    "        self.threshold = threshold\n",
    "\n",
    "        self.epochs = epochs\n",
    "        self.batch_size = batch_size\n",
    "        self.intercept = intercept\n",
    "\n",
    "    def fit(self, X, y):\n",
    "        X, y = np.array(X), np.array(y)\n",
    "        precision = 0.001\n",
    "\n",
    "        if len(X.shape) == 1:\n",
    "            m, n = X.shape[0], 1\n",
    "        else:\n",
    "            m, n = X.shape\n",
    "\n",
    "        self.theta = np.full((n,), 0.33)\n",
    "        for j in range(self.epochs):\n",
    "            theta_old = tuple(self.theta)\n",
    "\n",
    "            for k in range(0, m, self.batch_size):\n",
    "                start = k\n",
    "                size = min(self.batch_size, m - k)\n",
    "                stop = k + size\n",
    "#                 print('start =', start, ' stop =', stop)\n",
    "\n",
    "                X_batch = X[start:stop]\n",
    "                y_batch = y[start:stop]\n",
    "\n",
    "                y_hypoth = X_batch.dot(self.theta)\n",
    "                p = e ** y_hypoth / (e ** y_hypoth + 1)\n",
    "\n",
    "                self.grad = X_batch.T.dot(p - y_batch) / size\n",
    "                penalty = 2 * self.l2 * self.theta\n",
    "\n",
    "                if self.intercept:\n",
    "                    penalty[0] = 0\n",
    "                self.grad += penalty\n",
    "                self.theta -= self.alpha * self.grad\n",
    "\n",
    "            precise = True\n",
    "            for i in range(n):\n",
    "                if abs(theta_old[i] - self.theta[i]) > precision:\n",
    "                    precise = False\n",
    "                    break\n",
    "            if precise:\n",
    "                print('epoch', str(j) + ': precise enough')\n",
    "                break\n",
    "\n",
    "    def predict(self, X_test):\n",
    "        y_hypoth = X_test.dot(self.theta)\n",
    "        p = e ** y_hypoth / (e ** y_hypoth + 1)\n",
    "\n",
    "        get_predictions = lambda x: 1 if x > self.threshold else 0\n",
    "        return pd.Series(np.vectorize(get_predictions)(p)), p"
   ]
  },
  {
   "cell_type": "markdown",
   "metadata": {},
   "source": [
    "Метрики качества модели для двух классов"
   ]
  },
  {
   "cell_type": "code",
   "execution_count": 4,
   "metadata": {},
   "outputs": [],
   "source": [
    "def precision(y_hypoth, y):\n",
    "    y_hypoth, y = np.array(y_hypoth), np.array(y)\n",
    "    tp = ((y_hypoth == y) & (y == 1)).sum()\n",
    "    fp = ((y == 0) & (y_hypoth == 1)).sum()\n",
    "    return tp / (tp + fp)"
   ]
  },
  {
   "cell_type": "code",
   "execution_count": 5,
   "metadata": {},
   "outputs": [],
   "source": [
    "def recall(y_hypoth, y):\n",
    "    y_hypoth, y = np.array(y_hypoth), np.array(y)\n",
    "    tp = ((y_hypoth == y) & (y == 1)).sum()\n",
    "    fn = ((y_hypoth == 0) & (y == 1)).sum()\n",
    "    return tp / (tp + fn)"
   ]
  },
  {
   "cell_type": "code",
   "execution_count": 6,
   "metadata": {},
   "outputs": [],
   "source": [
    "def f_measure(y_hypoth, y):\n",
    "    pr, rec = precision(y_hypoth, y), recall(y_hypoth, y)\n",
    "    return 2 * pr * rec / (pr + rec)"
   ]
  },
  {
   "cell_type": "markdown",
   "metadata": {},
   "source": [
    "Нормализация данных"
   ]
  },
  {
   "cell_type": "code",
   "execution_count": 7,
   "metadata": {},
   "outputs": [],
   "source": [
    "def min_max(X):\n",
    "    if len(X.shape) == 1:\n",
    "        X = [(x - min(X)) / (max(X) - min(X)) for x in X]\n",
    "        return\n",
    "    \n",
    "    for col in X.columns:\n",
    "        if max(X[col]) == min(X[col]):\n",
    "            X[col] = 1\n",
    "        else:\n",
    "            X[col] = [(x - min(X[col])) / (max(X[col]) - min(X[col])) for x in X[col]]"
   ]
  },
  {
   "cell_type": "markdown",
   "metadata": {},
   "source": [
    "Обучение на данных про ирисы (классы 0 и 1)"
   ]
  },
  {
   "cell_type": "code",
   "execution_count": 15,
   "metadata": {},
   "outputs": [],
   "source": [
    "X, y = data.drop('class', axis=1), data['class']"
   ]
  },
  {
   "cell_type": "code",
   "execution_count": 16,
   "metadata": {},
   "outputs": [],
   "source": [
    "X_two_class, y_two_class = data[data['class'] <= 1].drop('class', axis=1), data[data['class'] <= 1]['class']"
   ]
  },
  {
   "cell_type": "code",
   "execution_count": 17,
   "metadata": {},
   "outputs": [
    {
     "data": {
      "text/html": [
       "<div>\n",
       "<style scoped>\n",
       "    .dataframe tbody tr th:only-of-type {\n",
       "        vertical-align: middle;\n",
       "    }\n",
       "\n",
       "    .dataframe tbody tr th {\n",
       "        vertical-align: top;\n",
       "    }\n",
       "\n",
       "    .dataframe thead th {\n",
       "        text-align: right;\n",
       "    }\n",
       "</style>\n",
       "<table border=\"1\" class=\"dataframe\">\n",
       "  <thead>\n",
       "    <tr style=\"text-align: right;\">\n",
       "      <th></th>\n",
       "      <th>1</th>\n",
       "      <th>sepal length (cm)</th>\n",
       "      <th>sepal width (cm)</th>\n",
       "      <th>petal length (cm)</th>\n",
       "      <th>petal width (cm)</th>\n",
       "      <th>sepal length (cm)^2</th>\n",
       "      <th>sepal length (cm) sepal width (cm)</th>\n",
       "      <th>sepal length (cm) petal length (cm)</th>\n",
       "      <th>sepal length (cm) petal width (cm)</th>\n",
       "      <th>sepal width (cm)^2</th>\n",
       "      <th>sepal width (cm) petal length (cm)</th>\n",
       "      <th>sepal width (cm) petal width (cm)</th>\n",
       "      <th>petal length (cm)^2</th>\n",
       "      <th>petal length (cm) petal width (cm)</th>\n",
       "      <th>petal width (cm)^2</th>\n",
       "    </tr>\n",
       "  </thead>\n",
       "  <tbody>\n",
       "    <tr>\n",
       "      <th>0</th>\n",
       "      <td>1.0</td>\n",
       "      <td>5.1</td>\n",
       "      <td>3.5</td>\n",
       "      <td>1.4</td>\n",
       "      <td>0.2</td>\n",
       "      <td>26.01</td>\n",
       "      <td>17.85</td>\n",
       "      <td>7.14</td>\n",
       "      <td>1.02</td>\n",
       "      <td>12.25</td>\n",
       "      <td>4.90</td>\n",
       "      <td>0.70</td>\n",
       "      <td>1.96</td>\n",
       "      <td>0.28</td>\n",
       "      <td>0.04</td>\n",
       "    </tr>\n",
       "    <tr>\n",
       "      <th>1</th>\n",
       "      <td>1.0</td>\n",
       "      <td>4.9</td>\n",
       "      <td>3.0</td>\n",
       "      <td>1.4</td>\n",
       "      <td>0.2</td>\n",
       "      <td>24.01</td>\n",
       "      <td>14.70</td>\n",
       "      <td>6.86</td>\n",
       "      <td>0.98</td>\n",
       "      <td>9.00</td>\n",
       "      <td>4.20</td>\n",
       "      <td>0.60</td>\n",
       "      <td>1.96</td>\n",
       "      <td>0.28</td>\n",
       "      <td>0.04</td>\n",
       "    </tr>\n",
       "    <tr>\n",
       "      <th>2</th>\n",
       "      <td>1.0</td>\n",
       "      <td>4.7</td>\n",
       "      <td>3.2</td>\n",
       "      <td>1.3</td>\n",
       "      <td>0.2</td>\n",
       "      <td>22.09</td>\n",
       "      <td>15.04</td>\n",
       "      <td>6.11</td>\n",
       "      <td>0.94</td>\n",
       "      <td>10.24</td>\n",
       "      <td>4.16</td>\n",
       "      <td>0.64</td>\n",
       "      <td>1.69</td>\n",
       "      <td>0.26</td>\n",
       "      <td>0.04</td>\n",
       "    </tr>\n",
       "    <tr>\n",
       "      <th>3</th>\n",
       "      <td>1.0</td>\n",
       "      <td>4.6</td>\n",
       "      <td>3.1</td>\n",
       "      <td>1.5</td>\n",
       "      <td>0.2</td>\n",
       "      <td>21.16</td>\n",
       "      <td>14.26</td>\n",
       "      <td>6.90</td>\n",
       "      <td>0.92</td>\n",
       "      <td>9.61</td>\n",
       "      <td>4.65</td>\n",
       "      <td>0.62</td>\n",
       "      <td>2.25</td>\n",
       "      <td>0.30</td>\n",
       "      <td>0.04</td>\n",
       "    </tr>\n",
       "    <tr>\n",
       "      <th>4</th>\n",
       "      <td>1.0</td>\n",
       "      <td>5.0</td>\n",
       "      <td>3.6</td>\n",
       "      <td>1.4</td>\n",
       "      <td>0.2</td>\n",
       "      <td>25.00</td>\n",
       "      <td>18.00</td>\n",
       "      <td>7.00</td>\n",
       "      <td>1.00</td>\n",
       "      <td>12.96</td>\n",
       "      <td>5.04</td>\n",
       "      <td>0.72</td>\n",
       "      <td>1.96</td>\n",
       "      <td>0.28</td>\n",
       "      <td>0.04</td>\n",
       "    </tr>\n",
       "  </tbody>\n",
       "</table>\n",
       "</div>"
      ],
      "text/plain": [
       "     1  sepal length (cm)  sepal width (cm)  petal length (cm)  \\\n",
       "0  1.0                5.1               3.5                1.4   \n",
       "1  1.0                4.9               3.0                1.4   \n",
       "2  1.0                4.7               3.2                1.3   \n",
       "3  1.0                4.6               3.1                1.5   \n",
       "4  1.0                5.0               3.6                1.4   \n",
       "\n",
       "   petal width (cm)  sepal length (cm)^2  sepal length (cm) sepal width (cm)  \\\n",
       "0               0.2                26.01                               17.85   \n",
       "1               0.2                24.01                               14.70   \n",
       "2               0.2                22.09                               15.04   \n",
       "3               0.2                21.16                               14.26   \n",
       "4               0.2                25.00                               18.00   \n",
       "\n",
       "   sepal length (cm) petal length (cm)  sepal length (cm) petal width (cm)  \\\n",
       "0                                 7.14                                1.02   \n",
       "1                                 6.86                                0.98   \n",
       "2                                 6.11                                0.94   \n",
       "3                                 6.90                                0.92   \n",
       "4                                 7.00                                1.00   \n",
       "\n",
       "   sepal width (cm)^2  sepal width (cm) petal length (cm)  \\\n",
       "0               12.25                                4.90   \n",
       "1                9.00                                4.20   \n",
       "2               10.24                                4.16   \n",
       "3                9.61                                4.65   \n",
       "4               12.96                                5.04   \n",
       "\n",
       "   sepal width (cm) petal width (cm)  petal length (cm)^2  \\\n",
       "0                               0.70                 1.96   \n",
       "1                               0.60                 1.96   \n",
       "2                               0.64                 1.69   \n",
       "3                               0.62                 2.25   \n",
       "4                               0.72                 1.96   \n",
       "\n",
       "   petal length (cm) petal width (cm)  petal width (cm)^2  \n",
       "0                                0.28                0.04  \n",
       "1                                0.28                0.04  \n",
       "2                                0.26                0.04  \n",
       "3                                0.30                0.04  \n",
       "4                                0.28                0.04  "
      ]
     },
     "execution_count": 17,
     "metadata": {},
     "output_type": "execute_result"
    }
   ],
   "source": [
    "poly = PolynomialFeatures(2, include_bias=True)\n",
    "X_two_class_poly = pd.DataFrame(data = poly.fit_transform(X_two_class), columns=poly.get_feature_names(X_two_class.columns))\n",
    "X_two_class_poly.head()"
   ]
  },
  {
   "cell_type": "code",
   "execution_count": 18,
   "metadata": {},
   "outputs": [],
   "source": [
    "min_max(X_two_class_poly)\n",
    "min_max(y_two_class)"
   ]
  },
  {
   "cell_type": "code",
   "execution_count": 31,
   "metadata": {},
   "outputs": [
    {
     "name": "stdout",
     "output_type": "stream",
     "text": [
      "epoch 507: precise enough\n",
      "Wall time: 360 ms\n"
     ]
    }
   ],
   "source": [
    "X_train, X_test, Y_train, Y_test = train_test_split(X_two_class_poly, y_two_class, test_size=0.33, random_state=18)\n",
    "# model = LogisticRegression(alpha=0.01, threshold=0.5, l2=0.01, intercept=True)\n",
    "\n",
    "model = MiniBatchLR(alpha=0.01, epochs=10000, batch_size=10, threshold=0.5, l2=0.01, intercept=True)\n",
    "%time model.fit(X_train, Y_train)"
   ]
  },
  {
   "cell_type": "code",
   "execution_count": 32,
   "metadata": {},
   "outputs": [
    {
     "data": {
      "text/plain": [
       "(1.0, 1.0, 1.0)"
      ]
     },
     "execution_count": 32,
     "metadata": {},
     "output_type": "execute_result"
    }
   ],
   "source": [
    "Y_hypoth, pred_proba = model.predict(X_test)\n",
    "precision(Y_hypoth, Y_test), recall(Y_hypoth, Y_test), f_measure(Y_hypoth, Y_test)"
   ]
  },
  {
   "cell_type": "code",
   "execution_count": 33,
   "metadata": {},
   "outputs": [
    {
     "data": {
      "text/plain": [
       "array([-1.52611646,  0.20739539, -0.8846714 ,  0.84175319,  0.84246498,\n",
       "        0.23901378, -0.51966476,  0.75169732,  0.78547712, -0.77729013,\n",
       "        0.58341294,  0.66333183,  0.83816077,  0.84164902,  0.75135035])"
      ]
     },
     "execution_count": 33,
     "metadata": {},
     "output_type": "execute_result"
    }
   ],
   "source": [
    "model.theta"
   ]
  },
  {
   "cell_type": "code",
   "execution_count": 34,
   "metadata": {},
   "outputs": [
    {
     "data": {
      "text/plain": [
       "<matplotlib.axes._subplots.AxesSubplot at 0x4a4edb0>"
      ]
     },
     "execution_count": 34,
     "metadata": {},
     "output_type": "execute_result"
    },
    {
     "data": {
      "image/png": "[encoded data removed]",
      "text/plain": [
       "<Figure size 432x288 with 1 Axes>"
      ]
     },
     "metadata": {
      "needs_background": "light"
     },
     "output_type": "display_data"
    }
   ],
   "source": [
    "pred_proba.hist()"
   ]
  },
  {
   "cell_type": "markdown",
   "metadata": {},
   "source": [
    "Логистическая регрессия для K классов"
   ]
  },
  {
   "cell_type": "code",
   "execution_count": 532,
   "metadata": {},
   "outputs": [],
   "source": [
    "class SoftmaxRegression:\n",
    "    def __init__(self, alpha=0.01, epochs=100, batch_size=10, threshold=0.5, l2=0.01, intercept=False):\n",
    "        self.alpha = alpha\n",
    "        self.l2 = l2\n",
    "        self.threshold = threshold\n",
    "\n",
    "        self.epochs = epochs\n",
    "        self.batch_size = batch_size\n",
    "        self.intercept = intercept\n",
    "\n",
    "    def fit(self, X, y):\n",
    "        X, y = np.array(X), np.array(y)\n",
    "        precision = 0.001\n",
    "\n",
    "        if len(X.shape) == 1:\n",
    "            M, N = X.shape[0], 1\n",
    "        else:\n",
    "            M, N = X.shape\n",
    "        K = pd.Series(y).nunique()\n",
    "\n",
    "        self.theta = np.array([[0.33] * N for _ in range(K)])\n",
    "        \n",
    "        for epoch in range(self.epochs):\n",
    "            if epoch % 10 == 0:\n",
    "                print('epoch', epoch)\n",
    "            \n",
    "            theta_old = [tuple(self.theta[j]) for j in range(K)]\n",
    "\n",
    "            for b in range(0, M, self.batch_size):\n",
    "                start = b\n",
    "                size = min(self.batch_size, M - b)\n",
    "                stop = b + size\n",
    "\n",
    "                X_batch = X[start:stop]\n",
    "                y_batch = y[start:stop]\n",
    "\n",
    "                y_hypoth = X_batch.dot(self.theta.T)\n",
    "                p = e ** y_hypoth\n",
    "                for i in range(size):\n",
    "                    p[i] /= sum(e ** y_hypoth[i])\n",
    "\n",
    "                self.grad = np.array([[0.0] * N for j in range(K)])\n",
    "                for j in range(K):\n",
    "                    for n in range(N):\n",
    "                        for i in range(size):\n",
    "                            if j == y_batch[i]:\n",
    "                                self.grad[j][n] += (p[i][j] - 1.0) * X_batch[i][n]\n",
    "                            else:\n",
    "                                self.grad[j][n] += p[i][j] * X_batch[i][n]\n",
    "                \n",
    "                penalty = 2 * self.l2 * self.theta\n",
    "                if self.intercept:\n",
    "                    penalty[:, 0] = 0.0\n",
    "                self.grad += penalty\n",
    "                \n",
    "                self.theta -= self.alpha * self.grad\n",
    "\n",
    "            precise = True\n",
    "            for j in range(K):\n",
    "                for n in range(N):\n",
    "                    if abs(theta_old[j][n] - self.theta[j][n]) > precision:\n",
    "                        precise = False\n",
    "                        break\n",
    "            if precise:\n",
    "                print('epoch', str(epoch) + ': precise enough')\n",
    "                break\n",
    "\n",
    "    def predict(self, X_test):\n",
    "        X_test = np.array(X_test)\n",
    "        \n",
    "        y_hypoth = X_test.dot(self.theta.T)        \n",
    "        p = e ** y_hypoth\n",
    "        for i in range(len(X_test)):\n",
    "            p[i] /= sum(e ** y_hypoth[i])\n",
    "        \n",
    "        predictions = [p[i].argmax() for i in range(len(X_test))]\n",
    "        pred_proba = [max(p[i]) for i in range(len(X_test))]\n",
    "        return pd.Series(predictions), pred_proba"
   ]
  },
  {
   "cell_type": "markdown",
   "metadata": {},
   "source": [
    "Метрики качества модели для К классов"
   ]
  },
  {
   "cell_type": "code",
   "execution_count": 562,
   "metadata": {},
   "outputs": [],
   "source": [
    "def metrics(y_hypoth, y_test):\n",
    "    y_hypoth, y_test = np.array(y_hypoth), np.array(y_test)\n",
    "    classes = pd.Series(y_test).unique()\n",
    "    K = len(classes)\n",
    "    \n",
    "    confusion_matrix = [[0] * K for _ in range(K)]\n",
    "    for i in range(K):\n",
    "        for j in range(K):\n",
    "            confusion_matrix[i][j] = ((y_test == i) & (y_hypoth == j)).sum()\n",
    "    \n",
    "    tp, fp, fn = np.full((K,), 0), np.full((K,), 0), np.full((K,), 0)\n",
    "    for j in range(K):\n",
    "        tp[j] = confusion_matrix[j][j]\n",
    "        fp[j] = sum([confusion_matrix[i][j] for i in range(K)]) - tp[j]\n",
    "        fn[j] = sum(confusion_matrix[j]) - tp[j]\n",
    "    \n",
    "    pr_micro = sum(tp) / sum(tp + fp)\n",
    "    r_micro = sum(tp) / sum(tp + fn)\n",
    "    f_micro = 2 * pr_micro * r_micro / (pr_micro + r_micro)\n",
    "    \n",
    "    pr_macro = sum(tp / (tp + fp)) / K\n",
    "    r_macro = sum(tp / (tp + fn)) / K\n",
    "    f_macro = 2 * pr_macro * r_macro / (pr_macro + r_macro)\n",
    "    \n",
    "    return f_micro, f_macro"
   ]
  },
  {
   "cell_type": "markdown",
   "metadata": {},
   "source": [
    "Обучение на данных про ирисы "
   ]
  },
  {
   "cell_type": "code",
   "execution_count": 511,
   "metadata": {},
   "outputs": [],
   "source": [
    "X_poly = pd.DataFrame(data = poly.fit_transform(X), columns=poly.get_feature_names(X.columns))"
   ]
  },
  {
   "cell_type": "code",
   "execution_count": null,
   "metadata": {},
   "outputs": [],
   "source": [
    "min_max(X_poly)\n",
    "min_max(y)"
   ]
  },
  {
   "cell_type": "code",
   "execution_count": 512,
   "metadata": {},
   "outputs": [
    {
     "name": "stdout",
     "output_type": "stream",
     "text": [
      "epoch 397: precise enough\n",
      "Wall time: 6.12 s\n"
     ]
    }
   ],
   "source": [
    "X_train, X_test, Y_train, Y_test = train_test_split(X, y, test_size=0.33, random_state=18)\n",
    "model = SoftmaxRegression(alpha=0.01, epochs=1000, batch_size=10, threshold=0.5, l2=0.01, intercept=True)\n",
    "%time model.fit(X_train, Y_train)"
   ]
  },
  {
   "cell_type": "code",
   "execution_count": 513,
   "metadata": {},
   "outputs": [
    {
     "data": {
      "text/plain": [
       "<matplotlib.axes._subplots.AxesSubplot at 0x15970bd0>"
      ]
     },
     "execution_count": 513,
     "metadata": {},
     "output_type": "execute_result"
    },
    {
     "data": {
      "image/png": "[encoded data removed]",
      "text/plain": [
       "<Figure size 576x396 with 1 Axes>"
      ]
     },
     "metadata": {},
     "output_type": "display_data"
    }
   ],
   "source": [
    "Y_hypoth, pred_proba = model.predict(X_test)\n",
    "pd.Series(pred_proba).hist()"
   ]
  },
  {
   "cell_type": "code",
   "execution_count": 514,
   "metadata": {},
   "outputs": [
    {
     "data": {
      "text/plain": [
       "(0.98, 0.98080864542575)"
      ]
     },
     "execution_count": 514,
     "metadata": {},
     "output_type": "execute_result"
    }
   ],
   "source": [
    "metrics(Y_hypoth, Y_test)"
   ]
  },
  {
   "cell_type": "markdown",
   "metadata": {},
   "source": [
    "Обучение на данных mnist/digits (распознавание рукописных цифр)"
   ]
  },
  {
   "cell_type": "code",
   "execution_count": 527,
   "metadata": {},
   "outputs": [
    {
     "data": {
      "text/html": [
       "<div>\n",
       "<style scoped>\n",
       "    .dataframe tbody tr th:only-of-type {\n",
       "        vertical-align: middle;\n",
       "    }\n",
       "\n",
       "    .dataframe tbody tr th {\n",
       "        vertical-align: top;\n",
       "    }\n",
       "\n",
       "    .dataframe thead th {\n",
       "        text-align: right;\n",
       "    }\n",
       "</style>\n",
       "<table border=\"1\" class=\"dataframe\">\n",
       "  <thead>\n",
       "    <tr style=\"text-align: right;\">\n",
       "      <th></th>\n",
       "      <th>0</th>\n",
       "      <th>1</th>\n",
       "      <th>2</th>\n",
       "      <th>3</th>\n",
       "      <th>4</th>\n",
       "      <th>5</th>\n",
       "      <th>6</th>\n",
       "      <th>7</th>\n",
       "      <th>8</th>\n",
       "      <th>9</th>\n",
       "      <th>...</th>\n",
       "      <th>54</th>\n",
       "      <th>55</th>\n",
       "      <th>56</th>\n",
       "      <th>57</th>\n",
       "      <th>58</th>\n",
       "      <th>59</th>\n",
       "      <th>60</th>\n",
       "      <th>61</th>\n",
       "      <th>62</th>\n",
       "      <th>63</th>\n",
       "    </tr>\n",
       "  </thead>\n",
       "  <tbody>\n",
       "    <tr>\n",
       "      <th>0</th>\n",
       "      <td>0.0</td>\n",
       "      <td>0.0</td>\n",
       "      <td>5.0</td>\n",
       "      <td>13.0</td>\n",
       "      <td>9.0</td>\n",
       "      <td>1.0</td>\n",
       "      <td>0.0</td>\n",
       "      <td>0.0</td>\n",
       "      <td>0.0</td>\n",
       "      <td>0.0</td>\n",
       "      <td>...</td>\n",
       "      <td>0.0</td>\n",
       "      <td>0.0</td>\n",
       "      <td>0.0</td>\n",
       "      <td>0.0</td>\n",
       "      <td>6.0</td>\n",
       "      <td>13.0</td>\n",
       "      <td>10.0</td>\n",
       "      <td>0.0</td>\n",
       "      <td>0.0</td>\n",
       "      <td>0.0</td>\n",
       "    </tr>\n",
       "    <tr>\n",
       "      <th>1</th>\n",
       "      <td>0.0</td>\n",
       "      <td>0.0</td>\n",
       "      <td>0.0</td>\n",
       "      <td>12.0</td>\n",
       "      <td>13.0</td>\n",
       "      <td>5.0</td>\n",
       "      <td>0.0</td>\n",
       "      <td>0.0</td>\n",
       "      <td>0.0</td>\n",
       "      <td>0.0</td>\n",
       "      <td>...</td>\n",
       "      <td>0.0</td>\n",
       "      <td>0.0</td>\n",
       "      <td>0.0</td>\n",
       "      <td>0.0</td>\n",
       "      <td>0.0</td>\n",
       "      <td>11.0</td>\n",
       "      <td>16.0</td>\n",
       "      <td>10.0</td>\n",
       "      <td>0.0</td>\n",
       "      <td>0.0</td>\n",
       "    </tr>\n",
       "    <tr>\n",
       "      <th>2</th>\n",
       "      <td>0.0</td>\n",
       "      <td>0.0</td>\n",
       "      <td>0.0</td>\n",
       "      <td>4.0</td>\n",
       "      <td>15.0</td>\n",
       "      <td>12.0</td>\n",
       "      <td>0.0</td>\n",
       "      <td>0.0</td>\n",
       "      <td>0.0</td>\n",
       "      <td>0.0</td>\n",
       "      <td>...</td>\n",
       "      <td>5.0</td>\n",
       "      <td>0.0</td>\n",
       "      <td>0.0</td>\n",
       "      <td>0.0</td>\n",
       "      <td>0.0</td>\n",
       "      <td>3.0</td>\n",
       "      <td>11.0</td>\n",
       "      <td>16.0</td>\n",
       "      <td>9.0</td>\n",
       "      <td>0.0</td>\n",
       "    </tr>\n",
       "    <tr>\n",
       "      <th>3</th>\n",
       "      <td>0.0</td>\n",
       "      <td>0.0</td>\n",
       "      <td>7.0</td>\n",
       "      <td>15.0</td>\n",
       "      <td>13.0</td>\n",
       "      <td>1.0</td>\n",
       "      <td>0.0</td>\n",
       "      <td>0.0</td>\n",
       "      <td>0.0</td>\n",
       "      <td>8.0</td>\n",
       "      <td>...</td>\n",
       "      <td>9.0</td>\n",
       "      <td>0.0</td>\n",
       "      <td>0.0</td>\n",
       "      <td>0.0</td>\n",
       "      <td>7.0</td>\n",
       "      <td>13.0</td>\n",
       "      <td>13.0</td>\n",
       "      <td>9.0</td>\n",
       "      <td>0.0</td>\n",
       "      <td>0.0</td>\n",
       "    </tr>\n",
       "    <tr>\n",
       "      <th>4</th>\n",
       "      <td>0.0</td>\n",
       "      <td>0.0</td>\n",
       "      <td>0.0</td>\n",
       "      <td>1.0</td>\n",
       "      <td>11.0</td>\n",
       "      <td>0.0</td>\n",
       "      <td>0.0</td>\n",
       "      <td>0.0</td>\n",
       "      <td>0.0</td>\n",
       "      <td>0.0</td>\n",
       "      <td>...</td>\n",
       "      <td>0.0</td>\n",
       "      <td>0.0</td>\n",
       "      <td>0.0</td>\n",
       "      <td>0.0</td>\n",
       "      <td>0.0</td>\n",
       "      <td>2.0</td>\n",
       "      <td>16.0</td>\n",
       "      <td>4.0</td>\n",
       "      <td>0.0</td>\n",
       "      <td>0.0</td>\n",
       "    </tr>\n",
       "  </tbody>\n",
       "</table>\n",
       "<p>5 rows × 64 columns</p>\n",
       "</div>"
      ],
      "text/plain": [
       "    0    1    2     3     4     5    6    7    8    9   ...   54   55   56  \\\n",
       "0  0.0  0.0  5.0  13.0   9.0   1.0  0.0  0.0  0.0  0.0  ...  0.0  0.0  0.0   \n",
       "1  0.0  0.0  0.0  12.0  13.0   5.0  0.0  0.0  0.0  0.0  ...  0.0  0.0  0.0   \n",
       "2  0.0  0.0  0.0   4.0  15.0  12.0  0.0  0.0  0.0  0.0  ...  5.0  0.0  0.0   \n",
       "3  0.0  0.0  7.0  15.0  13.0   1.0  0.0  0.0  0.0  8.0  ...  9.0  0.0  0.0   \n",
       "4  0.0  0.0  0.0   1.0  11.0   0.0  0.0  0.0  0.0  0.0  ...  0.0  0.0  0.0   \n",
       "\n",
       "    57   58    59    60    61   62   63  \n",
       "0  0.0  6.0  13.0  10.0   0.0  0.0  0.0  \n",
       "1  0.0  0.0  11.0  16.0  10.0  0.0  0.0  \n",
       "2  0.0  0.0   3.0  11.0  16.0  9.0  0.0  \n",
       "3  0.0  7.0  13.0  13.0   9.0  0.0  0.0  \n",
       "4  0.0  0.0   2.0  16.0   4.0  0.0  0.0  \n",
       "\n",
       "[5 rows x 64 columns]"
      ]
     },
     "execution_count": 527,
     "metadata": {},
     "output_type": "execute_result"
    }
   ],
   "source": [
    "from sklearn.datasets import load_digits\n",
    "mnist = load_digits()\n",
    "data = pd.DataFrame(data=mnist.data)\n",
    "data.head()"
   ]
  },
  {
   "cell_type": "code",
   "execution_count": 526,
   "metadata": {},
   "outputs": [
    {
     "data": {
      "text/plain": [
       "array([0, 1, 2, 3, 4, 5, 6, 7, 8, 9], dtype=int64)"
      ]
     },
     "execution_count": 526,
     "metadata": {},
     "output_type": "execute_result"
    }
   ],
   "source": [
    "data['class'].unique()"
   ]
  },
  {
   "cell_type": "code",
   "execution_count": 531,
   "metadata": {},
   "outputs": [
    {
     "data": {
      "text/plain": [
       "(1797, 64)"
      ]
     },
     "execution_count": 531,
     "metadata": {},
     "output_type": "execute_result"
    }
   ],
   "source": [
    "data.shape"
   ]
  },
  {
   "cell_type": "code",
   "execution_count": 529,
   "metadata": {},
   "outputs": [],
   "source": [
    "X, y = data, pd.Series(mnist.target)"
   ]
  },
  {
   "cell_type": "code",
   "execution_count": 559,
   "metadata": {},
   "outputs": [
    {
     "name": "stdout",
     "output_type": "stream",
     "text": [
      "epoch 0\n",
      "epoch 10\n",
      "epoch 20\n",
      "epoch 30\n",
      "epoch 40\n",
      "epoch 50\n",
      "epoch 60\n",
      "epoch 70\n",
      "epoch 80\n",
      "epoch 90\n",
      "Wall time: 10min 29s\n"
     ]
    }
   ],
   "source": [
    "X_train, X_test, Y_train, Y_test = train_test_split(X, y, test_size=0.33, random_state=18)\n",
    "model = SoftmaxRegression(alpha=0.01, epochs=100, batch_size=25, threshold=0.5, l2=0.1, intercept=True)\n",
    "%time model.fit(X_train, Y_train)"
   ]
  },
  {
   "cell_type": "code",
   "execution_count": 560,
   "metadata": {},
   "outputs": [
    {
     "data": {
      "text/plain": [
       "<matplotlib.axes._subplots.AxesSubplot at 0x15e9aa90>"
      ]
     },
     "execution_count": 560,
     "metadata": {},
     "output_type": "execute_result"
    },
    {
     "data": {
      "image/png": "[encoded data removed]",
      "text/plain": [
       "<Figure size 576x396 with 1 Axes>"
      ]
     },
     "metadata": {},
     "output_type": "display_data"
    }
   ],
   "source": [
    "Y_hypoth, pred_proba = model.predict(X_test)\n",
    "pd.Series(pred_proba).hist()"
   ]
  },
  {
   "cell_type": "code",
   "execution_count": 563,
   "metadata": {},
   "outputs": [
    {
     "data": {
      "text/plain": [
       "(0.9191919191919192, 0.927033927599065)"
      ]
     },
     "execution_count": 563,
     "metadata": {},
     "output_type": "execute_result"
    }
   ],
   "source": [
    "metrics(Y_hypoth, Y_test)"
   ]
  }
 ],
 "metadata": {
  "kernelspec": {
   "display_name": "Python 3",
   "language": "python",
   "name": "python3"
  },
  "language_info": {
   "codemirror_mode": {
    "name": "ipython",
    "version": 3
   },
   "file_extension": ".py",
   "mimetype": "text/x-python",
   "name": "python",
   "nbconvert_exporter": "python",
   "pygments_lexer": "ipython3",
   "version": "3.7.4"
  }
 },
 "nbformat": 4,
 "nbformat_minor": 1
}
