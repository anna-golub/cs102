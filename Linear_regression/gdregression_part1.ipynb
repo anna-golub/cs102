{
 "cells": [
  {
   "cell_type": "code",
   "execution_count": 1,
   "metadata": {},
   "outputs": [],
   "source": [
    "%matplotlib inline\n",
    "\n",
    "import pandas as pd\n",
    "import numpy as np\n",
    "import matplotlib.pyplot as plt\n",
    "import seaborn as sns\n",
    "plt.style.use(\"seaborn\")"
   ]
  },
  {
   "cell_type": "code",
   "execution_count": 2,
   "metadata": {},
   "outputs": [],
   "source": [
    "from sklearn.datasets import load_boston\n",
    "boston = load_boston()"
   ]
  },
  {
   "cell_type": "code",
   "execution_count": 3,
   "metadata": {},
   "outputs": [
    {
     "data": {
      "text/plain": [
       "array(['CRIM', 'ZN', 'INDUS', 'CHAS', 'NOX', 'RM', 'AGE', 'DIS', 'RAD',\n",
       "       'TAX', 'PTRATIO', 'B', 'LSTAT'], dtype='<U7')"
      ]
     },
     "execution_count": 3,
     "metadata": {},
     "output_type": "execute_result"
    }
   ],
   "source": [
    "boston.feature_names"
   ]
  },
  {
   "cell_type": "code",
   "execution_count": 4,
   "metadata": {},
   "outputs": [
    {
     "data": {
      "text/plain": [
       "(506, 13)"
      ]
     },
     "execution_count": 4,
     "metadata": {},
     "output_type": "execute_result"
    }
   ],
   "source": [
    "boston.data.shape"
   ]
  },
  {
   "cell_type": "code",
   "execution_count": 5,
   "metadata": {},
   "outputs": [
    {
     "data": {
      "text/html": [
       "<div>\n",
       "<style scoped>\n",
       "    .dataframe tbody tr th:only-of-type {\n",
       "        vertical-align: middle;\n",
       "    }\n",
       "\n",
       "    .dataframe tbody tr th {\n",
       "        vertical-align: top;\n",
       "    }\n",
       "\n",
       "    .dataframe thead th {\n",
       "        text-align: right;\n",
       "    }\n",
       "</style>\n",
       "<table border=\"1\" class=\"dataframe\">\n",
       "  <thead>\n",
       "    <tr style=\"text-align: right;\">\n",
       "      <th></th>\n",
       "      <th>CRIM</th>\n",
       "      <th>ZN</th>\n",
       "      <th>INDUS</th>\n",
       "      <th>CHAS</th>\n",
       "      <th>NOX</th>\n",
       "      <th>RM</th>\n",
       "      <th>AGE</th>\n",
       "      <th>DIS</th>\n",
       "      <th>RAD</th>\n",
       "      <th>TAX</th>\n",
       "      <th>PTRATIO</th>\n",
       "      <th>B</th>\n",
       "      <th>LSTAT</th>\n",
       "      <th>MEDV</th>\n",
       "    </tr>\n",
       "  </thead>\n",
       "  <tbody>\n",
       "    <tr>\n",
       "      <th>0</th>\n",
       "      <td>0.00632</td>\n",
       "      <td>18.0</td>\n",
       "      <td>2.31</td>\n",
       "      <td>0.0</td>\n",
       "      <td>0.538</td>\n",
       "      <td>6.575</td>\n",
       "      <td>65.2</td>\n",
       "      <td>4.0900</td>\n",
       "      <td>1.0</td>\n",
       "      <td>296.0</td>\n",
       "      <td>15.3</td>\n",
       "      <td>396.90</td>\n",
       "      <td>4.98</td>\n",
       "      <td>24.0</td>\n",
       "    </tr>\n",
       "    <tr>\n",
       "      <th>1</th>\n",
       "      <td>0.02731</td>\n",
       "      <td>0.0</td>\n",
       "      <td>7.07</td>\n",
       "      <td>0.0</td>\n",
       "      <td>0.469</td>\n",
       "      <td>6.421</td>\n",
       "      <td>78.9</td>\n",
       "      <td>4.9671</td>\n",
       "      <td>2.0</td>\n",
       "      <td>242.0</td>\n",
       "      <td>17.8</td>\n",
       "      <td>396.90</td>\n",
       "      <td>9.14</td>\n",
       "      <td>21.6</td>\n",
       "    </tr>\n",
       "    <tr>\n",
       "      <th>2</th>\n",
       "      <td>0.02729</td>\n",
       "      <td>0.0</td>\n",
       "      <td>7.07</td>\n",
       "      <td>0.0</td>\n",
       "      <td>0.469</td>\n",
       "      <td>7.185</td>\n",
       "      <td>61.1</td>\n",
       "      <td>4.9671</td>\n",
       "      <td>2.0</td>\n",
       "      <td>242.0</td>\n",
       "      <td>17.8</td>\n",
       "      <td>392.83</td>\n",
       "      <td>4.03</td>\n",
       "      <td>34.7</td>\n",
       "    </tr>\n",
       "    <tr>\n",
       "      <th>3</th>\n",
       "      <td>0.03237</td>\n",
       "      <td>0.0</td>\n",
       "      <td>2.18</td>\n",
       "      <td>0.0</td>\n",
       "      <td>0.458</td>\n",
       "      <td>6.998</td>\n",
       "      <td>45.8</td>\n",
       "      <td>6.0622</td>\n",
       "      <td>3.0</td>\n",
       "      <td>222.0</td>\n",
       "      <td>18.7</td>\n",
       "      <td>394.63</td>\n",
       "      <td>2.94</td>\n",
       "      <td>33.4</td>\n",
       "    </tr>\n",
       "    <tr>\n",
       "      <th>4</th>\n",
       "      <td>0.06905</td>\n",
       "      <td>0.0</td>\n",
       "      <td>2.18</td>\n",
       "      <td>0.0</td>\n",
       "      <td>0.458</td>\n",
       "      <td>7.147</td>\n",
       "      <td>54.2</td>\n",
       "      <td>6.0622</td>\n",
       "      <td>3.0</td>\n",
       "      <td>222.0</td>\n",
       "      <td>18.7</td>\n",
       "      <td>396.90</td>\n",
       "      <td>5.33</td>\n",
       "      <td>36.2</td>\n",
       "    </tr>\n",
       "  </tbody>\n",
       "</table>\n",
       "</div>"
      ],
      "text/plain": [
       "      CRIM    ZN  INDUS  CHAS    NOX     RM   AGE     DIS  RAD    TAX  \\\n",
       "0  0.00632  18.0   2.31   0.0  0.538  6.575  65.2  4.0900  1.0  296.0   \n",
       "1  0.02731   0.0   7.07   0.0  0.469  6.421  78.9  4.9671  2.0  242.0   \n",
       "2  0.02729   0.0   7.07   0.0  0.469  7.185  61.1  4.9671  2.0  242.0   \n",
       "3  0.03237   0.0   2.18   0.0  0.458  6.998  45.8  6.0622  3.0  222.0   \n",
       "4  0.06905   0.0   2.18   0.0  0.458  7.147  54.2  6.0622  3.0  222.0   \n",
       "\n",
       "   PTRATIO       B  LSTAT  MEDV  \n",
       "0     15.3  396.90   4.98  24.0  \n",
       "1     17.8  396.90   9.14  21.6  \n",
       "2     17.8  392.83   4.03  34.7  \n",
       "3     18.7  394.63   2.94  33.4  \n",
       "4     18.7  396.90   5.33  36.2  "
      ]
     },
     "execution_count": 5,
     "metadata": {},
     "output_type": "execute_result"
    }
   ],
   "source": [
    "data = pd.DataFrame(data=boston.data, columns=boston.feature_names)\n",
    "data[\"MEDV\"] = boston.target\n",
    "data.head()"
   ]
  },
  {
   "cell_type": "code",
   "execution_count": 6,
   "metadata": {},
   "outputs": [
    {
     "data": {
      "text/plain": [
       "CRIM       0\n",
       "ZN         0\n",
       "INDUS      0\n",
       "CHAS       0\n",
       "NOX        0\n",
       "RM         0\n",
       "AGE        0\n",
       "DIS        0\n",
       "RAD        0\n",
       "TAX        0\n",
       "PTRATIO    0\n",
       "B          0\n",
       "LSTAT      0\n",
       "MEDV       0\n",
       "dtype: int64"
      ]
     },
     "execution_count": 6,
     "metadata": {},
     "output_type": "execute_result"
    }
   ],
   "source": [
    "data.isnull().sum()"
   ]
  },
  {
   "cell_type": "code",
   "execution_count": 7,
   "metadata": {},
   "outputs": [
    {
     "data": {
      "image/png": "[encoded data removed]",
      "text/plain": [
       "<Figure size 432x432 with 3 Axes>"
      ]
     },
     "metadata": {
      "needs_background": "light"
     },
     "output_type": "display_data"
    }
   ],
   "source": [
    "sns.jointplot(data[\"RM\"], data[\"MEDV\"], kind=\"scatter\", joint_kws={\"alpha\":0.5});"
   ]
  },
  {
   "cell_type": "code",
   "execution_count": 130,
   "metadata": {},
   "outputs": [],
   "source": [
    "from sklearn.model_selection import train_test_split\n",
    "from sklearn.metrics import mean_squared_error\n",
    "from sklearn.metrics import r2_score\n",
    "from sklearn.linear_model import SGDRegressor\n",
    "from sklearn.preprocessing import StandardScaler\n",
    "from tqdm.notebook import tqdm\n",
    "from math import sqrt"
   ]
  },
  {
   "cell_type": "code",
   "execution_count": 587,
   "metadata": {},
   "outputs": [],
   "source": [
    "class GDRegressor:\n",
    "\n",
    "    def __init__(self, alpha=0.01, n_iter=100, progress=True):\n",
    "        self.alpha = alpha\n",
    "        self.n_iter = n_iter\n",
    "        self.disable = not progress\n",
    "\n",
    "    def fit(self, X, y):\n",
    "        precision = 0.001\n",
    "\n",
    "        m = len(X)\n",
    "        self.theta = [0.33] * 2\n",
    "        theta_old = [0] * 2\n",
    "        self.grad = [0] * 2\n",
    "\n",
    "        y_hypoth = [0] * len(y)\n",
    "\n",
    "        for j in range(self.n_iter):\n",
    "            theta_old[0], theta_old[1] = self.theta[0], self.theta[1]\n",
    "\n",
    "            y_hypoth = [self.theta[0] + self.theta[1] * X[i] for i in range(m)]\n",
    "            self.grad[0] = sum([y_hypoth[i] - y[i] for i in range(m)]) / m\n",
    "            self.grad[1] = sum([(y_hypoth[i] - y[i]) * X[i] for i in range(m)]) / m\n",
    "            \n",
    "            check, diff = self.gradient_check(X, y)\n",
    "            if not check:\n",
    "                print('gradient is incorrect!', check, diff)\n",
    "                return\n",
    "\n",
    "            self.theta[0] -= self.alpha * self.grad[0]\n",
    "            self.theta[1] -= self.alpha * self.grad[1]\n",
    "\n",
    "            if j != 0 and abs(self.theta[0] - theta_old[0]) < precision and abs(\n",
    "                    self.theta[1] - theta_old[1]) < precision:\n",
    "                break\n",
    "\n",
    "        self.intercept_, self.slope_ = self.theta[0], self.theta[1]\n",
    "\n",
    "    def predict(self, X_test):\n",
    "        y = [0] * len(X_test)\n",
    "        for i in range(len(y)):\n",
    "            y[i] = self.intercept_ + self.slope_ * X_test[i]\n",
    "        return y\n",
    "\n",
    "    def gradient_check(self, X, y):\n",
    "        e = 10e-7\n",
    "        m = len(X)\n",
    "        diff = [-1] * 2\n",
    "\n",
    "        # theta_0\n",
    "        J_plus = sum([(self.theta[0] + e + self.theta[1] * X[i] - y[i]) ** 2 for i in range(m)]) / (2 * m)\n",
    "        J_minus = sum([(self.theta[0] - e + self.theta[1] * X[i] - y[i]) ** 2 for i in range(m)]) / (2 * m)\n",
    "        diff[0] = abs((J_plus - J_minus) / (2 * e) - self.grad[0])\n",
    "        if diff[0] > e:\n",
    "            return False, diff\n",
    "\n",
    "        # theta_1\n",
    "        J_plus = sum([(self.theta[0] + (self.theta[1] + e) * X[i] - y[i]) ** 2 for i in range(m)]) / (2 * m)\n",
    "        J_minus = sum([(self.theta[0] + (self.theta[1] - e) * X[i] - y[i]) ** 2 for i in range(m)]) / (2 * m)\n",
    "        diff[1] = abs((J_plus - J_minus) / (2 * e) - self.grad[1])\n",
    "        if diff[1] > e:\n",
    "            return False, diff\n",
    "        return True, diff"
   ]
  },
  {
   "cell_type": "code",
   "execution_count": 579,
   "metadata": {},
   "outputs": [],
   "source": [
    "def rmse(y_hypoth, y):\n",
    "    m = len(y)\n",
    "    t = sum([(y[i] - y_hypoth[i]) ** 2 for i in range(m)])\n",
    "    return sqrt(t / m)"
   ]
  },
  {
   "cell_type": "code",
   "execution_count": 202,
   "metadata": {},
   "outputs": [],
   "source": [
    "def r_squared(y_hypoth, y):\n",
    "    m = len(y)\n",
    "    y_mean = sum(y) / m\n",
    "    s1 = sum([(y_hypoth[i] - y_mean) ** 2 for i in range(m)])\n",
    "    s2 = sum([(y[i] - y_mean) ** 2 for i in range(m)])\n",
    "    return 1 - s1 / s2"
   ]
  },
  {
   "cell_type": "markdown",
   "metadata": {},
   "source": [
    "Изначальные данные:"
   ]
  },
  {
   "cell_type": "code",
   "execution_count": 550,
   "metadata": {},
   "outputs": [],
   "source": [
    "X = list(data[\"RM\"])\n",
    "y = list(data[\"MEDV\"])"
   ]
  },
  {
   "cell_type": "code",
   "execution_count": 588,
   "metadata": {},
   "outputs": [
    {
     "name": "stdout",
     "output_type": "stream",
     "text": [
      "Wall time: 32.6 s\n"
     ]
    }
   ],
   "source": [
    "X_train, X_test, Y_train, Y_test = train_test_split(X, y, test_size=0.33, random_state=18)\n",
    "model = GDRegressor(alpha=0.03, n_iter=10000)\n",
    "%time model.fit(X_train, Y_train)"
   ]
  },
  {
   "cell_type": "code",
   "execution_count": 589,
   "metadata": {},
   "outputs": [
    {
     "name": "stdout",
     "output_type": "stream",
     "text": [
      "9.409331875700822 -36.58580255135624\n"
     ]
    }
   ],
   "source": [
    "print(model.slope_, model.intercept_)"
   ]
  },
  {
   "cell_type": "code",
   "execution_count": 526,
   "metadata": {},
   "outputs": [],
   "source": [
    "Y_hypoth = model.predict(X_train)"
   ]
  },
  {
   "cell_type": "code",
   "execution_count": 344,
   "metadata": {},
   "outputs": [
    {
     "data": {
      "text/plain": [
       "[<matplotlib.lines.Line2D at 0x6104d30>]"
      ]
     },
     "execution_count": 344,
     "metadata": {},
     "output_type": "execute_result"
    },
    {
     "data": {
      "image/png": "[encoded data removed]",
      "text/plain": [
       "<Figure size 432x288 with 1 Axes>"
      ]
     },
     "metadata": {
      "needs_background": "light"
     },
     "output_type": "display_data"
    }
   ],
   "source": [
    "plt.scatter(data[\"RM\"], data[\"MEDV\"])\n",
    "plt.xlabel(\"RM\")\n",
    "plt.ylabel(\"MEDV\")\n",
    "plt.plot(X_train, [model.slope_ * x + model.intercept_ for x in X_train], \"r\")"
   ]
  },
  {
   "cell_type": "code",
   "execution_count": 527,
   "metadata": {},
   "outputs": [
    {
     "data": {
      "text/plain": [
       "(10.796404807683208, 0.49823518137173617)"
      ]
     },
     "execution_count": 527,
     "metadata": {},
     "output_type": "execute_result"
    }
   ],
   "source": [
    "rmse(Y_hypoth, Y_test), r_squared(Y_hypoth, Y_test)"
   ]
  },
  {
   "cell_type": "markdown",
   "metadata": {},
   "source": [
    "Данные без выбросов:"
   ]
  },
  {
   "cell_type": "code",
   "execution_count": 542,
   "metadata": {},
   "outputs": [],
   "source": [
    "X_filtered = list(data[(data[\"MEDV\"] < 50)][\"RM\"])\n",
    "y_filtered = list(data[(data[\"MEDV\"] < 50)][\"MEDV\"])"
   ]
  },
  {
   "cell_type": "code",
   "execution_count": 543,
   "metadata": {},
   "outputs": [
    {
     "name": "stdout",
     "output_type": "stream",
     "text": [
      "Wall time: 16.6 s\n"
     ]
    }
   ],
   "source": [
    "X_train, X_test, Y_train, Y_test = train_test_split(X_filtered, y_filtered, test_size=0.33, random_state=18)\n",
    "model = GDRegressor(alpha=0.04, n_iter=10000)\n",
    "%time model.fit(X_train, Y_train)"
   ]
  },
  {
   "cell_type": "code",
   "execution_count": 530,
   "metadata": {},
   "outputs": [],
   "source": [
    "Y_hypoth = model.predict(X_test)"
   ]
  },
  {
   "cell_type": "code",
   "execution_count": 385,
   "metadata": {},
   "outputs": [
    {
     "data": {
      "text/plain": [
       "[<matplotlib.lines.Line2D at 0x6346eb0>]"
      ]
     },
     "execution_count": 385,
     "metadata": {},
     "output_type": "execute_result"
    },
    {
     "data": {
      "image/png": "[encoded data removed]",
      "text/plain": [
       "<Figure size 432x288 with 1 Axes>"
      ]
     },
     "metadata": {
      "needs_background": "light"
     },
     "output_type": "display_data"
    }
   ],
   "source": [
    "plt.scatter(X_filtered, y_filtered)\n",
    "plt.xlabel(\"RM\")\n",
    "plt.ylabel(\"MEDV\")\n",
    "plt.plot(X_train, [model.slope_ * x + model.intercept_ for x in X_train], \"r\")"
   ]
  },
  {
   "cell_type": "code",
   "execution_count": 531,
   "metadata": {},
   "outputs": [
    {
     "data": {
      "text/plain": [
       "(5.65586397329336, 0.6119108018453858)"
      ]
     },
     "execution_count": 531,
     "metadata": {},
     "output_type": "execute_result"
    }
   ],
   "source": [
    "rmse(Y_hypoth, Y_test), r_squared(Y_hypoth, Y_test)"
   ]
  },
  {
   "cell_type": "code",
   "execution_count": 425,
   "metadata": {},
   "outputs": [],
   "source": [
    "def z_scaler(X):\n",
    "    x_mean = sum(X) / len(X)\n",
    "    std_dev = sqrt(sum([(x - x_mean) ** 2 for x in X]) / (len(X) - 1))\n",
    "    return [(x - x_mean) / std_dev for x in X]"
   ]
  },
  {
   "cell_type": "code",
   "execution_count": 388,
   "metadata": {},
   "outputs": [],
   "source": [
    "def min_max(X):\n",
    "    return [(x - min(X)) / (max(X) - min(X)) for x in X]"
   ]
  },
  {
   "cell_type": "markdown",
   "metadata": {},
   "source": [
    "Нормированные данные: z-scaler"
   ]
  },
  {
   "cell_type": "code",
   "execution_count": 544,
   "metadata": {},
   "outputs": [],
   "source": [
    "X_scaled = z_scaler(X_filtered)\n",
    "y_scaled = z_scaler(y_filtered)"
   ]
  },
  {
   "cell_type": "code",
   "execution_count": 545,
   "metadata": {},
   "outputs": [
    {
     "name": "stdout",
     "output_type": "stream",
     "text": [
      "Wall time: 16.6 s\n"
     ]
    }
   ],
   "source": [
    "X_train, X_test, Y_train, Y_test = train_test_split(X_scaled, y_scaled, test_size=0.33, random_state=18)\n",
    "model = GDRegressor(alpha=0.01, n_iter=10000)\n",
    "%time model.fit(X_train, Y_train)"
   ]
  },
  {
   "cell_type": "code",
   "execution_count": 534,
   "metadata": {},
   "outputs": [
    {
     "data": {
      "text/plain": [
       "(0.717668135252259, 0.6036764399421157)"
      ]
     },
     "execution_count": 534,
     "metadata": {},
     "output_type": "execute_result"
    }
   ],
   "source": [
    "Y_hypoth = model.predict(X_test)\n",
    "rmse(Y_hypoth, Y_test), r_squared(Y_hypoth, Y_test)"
   ]
  },
  {
   "cell_type": "markdown",
   "metadata": {},
   "source": [
    "Нормированные данные: min_max - лучший результат, чем при нормализации z-scaler"
   ]
  },
  {
   "cell_type": "code",
   "execution_count": 535,
   "metadata": {},
   "outputs": [],
   "source": [
    "X_scaled = min_max(X_filtered)\n",
    "y_scaled = min_max(y_filtered)"
   ]
  },
  {
   "cell_type": "code",
   "execution_count": 536,
   "metadata": {},
   "outputs": [
    {
     "name": "stdout",
     "output_type": "stream",
     "text": [
      "Wall time: 7.87 s\n"
     ]
    }
   ],
   "source": [
    "X_train, X_test, Y_train, Y_test = train_test_split(X_scaled, y_scaled, test_size=0.33, random_state=18)\n",
    "model = GDRegressor(alpha=0.01, n_iter=10000)\n",
    "%time model.fit(X_train, Y_train)"
   ]
  },
  {
   "cell_type": "code",
   "execution_count": 537,
   "metadata": {},
   "outputs": [
    {
     "data": {
      "text/plain": [
       "(0.13868945457793527, 0.7812976548908548)"
      ]
     },
     "execution_count": 537,
     "metadata": {},
     "output_type": "execute_result"
    }
   ],
   "source": [
    "Y_hypoth = model.predict(X_test)\n",
    "rmse(Y_hypoth, Y_test), r_squared(Y_hypoth, Y_test)"
   ]
  },
  {
   "cell_type": "markdown",
   "metadata": {},
   "source": [
    "С использованием библиотеки sklearn:"
   ]
  },
  {
   "cell_type": "code",
   "execution_count": 501,
   "metadata": {},
   "outputs": [],
   "source": [
    "from sklearn.linear_model import SGDRegressor\n",
    "\n",
    "max_iter = 10000\n",
    "eta0 = 0.0001\n",
    "model = SGDRegressor(\n",
    "    loss='squared_loss',\n",
    "    learning_rate='constant',\n",
    "    max_iter=max_iter,\n",
    "    eta0=eta0\n",
    ")"
   ]
  },
  {
   "cell_type": "code",
   "execution_count": 502,
   "metadata": {},
   "outputs": [],
   "source": [
    "from sklearn.preprocessing import StandardScaler\n",
    "X_train, X_test, Y_train, Y_test = train_test_split(X, y, test_size = 0.33, random_state = 18)\n",
    "x_scaler = StandardScaler()\n",
    "y_scaler = StandardScaler()\n",
    "X_train = x_scaler.fit_transform(np.array(X_train).reshape(-1, 1))\n",
    "Y_train = y_scaler.fit_transform(np.array(Y_train).reshape(-1, 1))\n",
    "X_test = x_scaler.transform(np.array(X_test).reshape(-1, 1))\n",
    "Y_test = y_scaler.transform(np.array(Y_test).reshape(-1, 1))"
   ]
  },
  {
   "cell_type": "code",
   "execution_count": 503,
   "metadata": {},
   "outputs": [
    {
     "data": {
      "text/plain": [
       "SGDRegressor(alpha=0.0001, average=False, early_stopping=False, epsilon=0.1,\n",
       "             eta0=0.0001, fit_intercept=True, l1_ratio=0.15,\n",
       "             learning_rate='constant', loss='squared_loss', max_iter=10000,\n",
       "             n_iter_no_change=5, penalty='l2', power_t=0.25, random_state=None,\n",
       "             shuffle=True, tol=0.001, validation_fraction=0.1, verbose=0,\n",
       "             warm_start=False)"
      ]
     },
     "execution_count": 503,
     "metadata": {},
     "output_type": "execute_result"
    }
   ],
   "source": [
    "model.fit(X_train, Y_train.ravel())"
   ]
  },
  {
   "cell_type": "code",
   "execution_count": 504,
   "metadata": {},
   "outputs": [],
   "source": [
    "Y_hypoth = model.predict(X_test)"
   ]
  },
  {
   "cell_type": "code",
   "execution_count": 505,
   "metadata": {},
   "outputs": [
    {
     "data": {
      "text/plain": [
       "(0.49627074021623074, 0.48767941625621686)"
      ]
     },
     "execution_count": 505,
     "metadata": {},
     "output_type": "execute_result"
    }
   ],
   "source": [
    "from sklearn.metrics import r2_score\n",
    "from sklearn.metrics import mean_squared_error\n",
    "\n",
    "r2_score(Y_test, Y_hypoth), mean_squared_error(Y_test, Y_hypoth)"
   ]
  },
  {
   "cell_type": "code",
   "execution_count": 506,
   "metadata": {},
   "outputs": [
    {
     "data": {
      "text/plain": [
       "(array([0.55178047]), array([-8.11084144e-07]))"
      ]
     },
     "execution_count": 506,
     "metadata": {},
     "output_type": "execute_result"
    }
   ],
   "source": [
    "model.coef_, model.intercept_"
   ]
  },
  {
   "cell_type": "code",
   "execution_count": 507,
   "metadata": {},
   "outputs": [
    {
     "data": {
      "text/plain": [
       "(0.48767941625621686, 0.49627074021623074)"
      ]
     },
     "execution_count": 507,
     "metadata": {},
     "output_type": "execute_result"
    }
   ],
   "source": [
    "mean_squared_error(Y_test, Y_hypoth), r2_score(Y_test, Y_hypoth)"
   ]
  },
  {
   "cell_type": "markdown",
   "metadata": {},
   "source": [
    " Mini-Batch Gradient Descent"
   ]
  },
  {
   "cell_type": "code",
   "execution_count": 689,
   "metadata": {},
   "outputs": [],
   "source": [
    "class MiniBatchGDR:\n",
    "\n",
    "    def __init__(self, alpha=0.01, epochs=100, batch_size=10, progress=True):\n",
    "        self.alpha = alpha\n",
    "        self.epochs = epochs\n",
    "        self.disable = not progress\n",
    "        self.batch_size = batch_size\n",
    "\n",
    "    def fit(self, X, y):\n",
    "        precision = 0.001\n",
    "\n",
    "        m = len(X)\n",
    "        self.theta = [0.33] * 2\n",
    "        theta_old = [0] * 2\n",
    "        self.grad = [0] * 2\n",
    "\n",
    "        for j in range(self.epochs):\n",
    "            theta_old[0], theta_old[1] = self.theta[0], self.theta[1]\n",
    "\n",
    "            for k in range(0, m, self.batch_size):\n",
    "                size = min(self.batch_size, m - k)\n",
    "                start = k\n",
    "                stop = k + size\n",
    "#                 print('start =', start, 'stop =', stop, 'size =', size)\n",
    "\n",
    "                y_hypoth = [self.theta[0] + self.theta[1] * X[i] for i in range(start, stop)]\n",
    "                self.grad[0] = sum([y_hypoth[i - start] - y[i] for i in range(start, stop)]) / size\n",
    "                self.grad[1] = sum([(y_hypoth[i - start] - y[i]) * X[i] for i in range(start, stop)]) / size\n",
    "\n",
    "#                 check, diff = self.gradient_check(X, y, start, stop)\n",
    "#                 if not check:\n",
    "#                     print('gradient is incorrect!', check, diff)\n",
    "#                     return\n",
    "\n",
    "                self.theta[0] -= self.alpha * self.grad[0]\n",
    "                self.theta[1] -= self.alpha * self.grad[1]\n",
    "\n",
    "            if j != 0 and abs(self.theta[0] - theta_old[0]) < precision and abs(\n",
    "                    self.theta[1] - theta_old[1]) < precision:\n",
    "                break\n",
    "\n",
    "        self.intercept_, self.slope_ = self.theta[0], self.theta[1]\n",
    "\n",
    "    def predict(self, X_test):\n",
    "        y = [0] * len(X_test)\n",
    "        for i in range(len(y)):\n",
    "            y[i] = self.intercept_ + self.slope_ * X_test[i]\n",
    "        return y\n",
    "\n",
    "    def gradient_check(self, X, y, start, stop):\n",
    "        e = 10e-7\n",
    "        size = stop - start\n",
    "        diff = [-1] * 2\n",
    "\n",
    "        # theta_0\n",
    "        J_plus = sum([(self.theta[0] + e + self.theta[1] * X[i] - y[i]) ** 2 for i in range(start, stop)]) / (2 * size)\n",
    "        J_minus = sum([(self.theta[0] - e + self.theta[1] * X[i] - y[i]) ** 2 for i in range(start, stop)]) / (2 * size)\n",
    "        diff[0] = abs((J_plus - J_minus) / (2 * e) - self.grad[0])\n",
    "        if diff[0] > e:\n",
    "            return False, diff\n",
    "\n",
    "        # theta_1\n",
    "        J_plus = sum([(self.theta[0] + (self.theta[1] + e) * X[i] - y[i]) ** 2 for i in range(start, stop)]) / (2 * size)\n",
    "        J_minus = sum([(self.theta[0] + (self.theta[1] - e) * X[i] - y[i]) ** 2 for i in range(start, stop)]) / (2 * size)\n",
    "        diff[1] = abs((J_plus - J_minus) / (2 * e) - self.grad[1])\n",
    "        if diff[1] > e:\n",
    "            return False, diff\n",
    "        return True, diff"
   ]
  },
  {
   "cell_type": "code",
   "execution_count": 690,
   "metadata": {},
   "outputs": [],
   "source": [
    "X_filtered = list(data[(data[\"MEDV\"] < 50)][\"RM\"])\n",
    "y_filtered = list(data[(data[\"MEDV\"] < 50)][\"MEDV\"])"
   ]
  },
  {
   "cell_type": "code",
   "execution_count": 691,
   "metadata": {},
   "outputs": [
    {
     "name": "stdout",
     "output_type": "stream",
     "text": [
      "Wall time: 1.04 s\n"
     ]
    }
   ],
   "source": [
    "X_train, X_test, Y_train, Y_test = train_test_split(X_filtered, y_filtered, test_size=0.33, random_state=18)\n",
    "model = MiniBatchGDR(alpha=0.03, epochs=10000, batch_size=10)\n",
    "%time model.fit(X_train, Y_train)"
   ]
  },
  {
   "cell_type": "code",
   "execution_count": 685,
   "metadata": {},
   "outputs": [
    {
     "data": {
      "text/plain": [
       "(5.631356281290914, 0.6078833780504185)"
      ]
     },
     "execution_count": 685,
     "metadata": {},
     "output_type": "execute_result"
    }
   ],
   "source": [
    "Y_hypoth = model.predict(X_test)\n",
    "rmse(Y_hypoth, Y_test), r_squared(Y_hypoth, Y_test)"
   ]
  },
  {
   "cell_type": "code",
   "execution_count": 686,
   "metadata": {},
   "outputs": [
    {
     "data": {
      "text/plain": [
       "[<matplotlib.lines.Line2D at 0x15380630>]"
      ]
     },
     "execution_count": 686,
     "metadata": {},
     "output_type": "execute_result"
    },
    {
     "data": {
      "image/png": "[encoded data removed]",
      "text/plain": [
       "<Figure size 432x288 with 1 Axes>"
      ]
     },
     "metadata": {
      "needs_background": "light"
     },
     "output_type": "display_data"
    }
   ],
   "source": [
    "plt.scatter(X_filtered, y_filtered)\n",
    "plt.xlabel(\"RM\")\n",
    "plt.ylabel(\"MEDV\")\n",
    "plt.plot(X_train, [model.slope_ * x + model.intercept_ for x in X_train], \"r\")"
   ]
  },
  {
   "cell_type": "markdown",
   "metadata": {},
   "source": [
    "Кривые обучения"
   ]
  },
  {
   "cell_type": "code",
   "execution_count": 706,
   "metadata": {},
   "outputs": [
    {
     "name": "stdout",
     "output_type": "stream",
     "text": [
      "1\n",
      "10\n",
      "50\n",
      "100\n",
      "150\n",
      "200\n",
      "250\n",
      "300\n",
      "328\n"
     ]
    }
   ],
   "source": [
    "X_train, X_test, Y_train, Y_test = train_test_split(X_filtered, y_filtered, test_size=0.33, random_state=18)\n",
    "set_sizes = [1, 10, 50, 100, 150, 200, 250, 300, 328]\n",
    "train_mse = [0] * len(set_sizes)\n",
    "test_mse = [0] * len(set_sizes)\n",
    "\n",
    "for j in range(len(set_sizes)):\n",
    "    size = set_sizes[j]\n",
    "    print(size)\n",
    "    X_train_cur, Y_train_cur = X_train[:size], Y_train[:size]\n",
    "    model = MiniBatchGDR(alpha=0.03, epochs=10000, batch_size=10)\n",
    "    model.fit(X_train_cur, Y_train_cur)\n",
    "    train_mse[j] = (sum([(model.intercept_ + model.slope_ * X_train_cur[i] - Y_train_cur[i])**2 for i in range(size)]))\n",
    "    \n",
    "    Y_hypoth = model.predict(X_test)\n",
    "    test_mse[j] = (sum([(Y_test[i] - Y_hypoth[i])**2 for i in range(len(Y_test))]))"
   ]
  },
  {
   "cell_type": "code",
   "execution_count": 707,
   "metadata": {},
   "outputs": [
    {
     "name": "stdout",
     "output_type": "stream",
     "text": [
      "[1.55583953093054e-06, 143.20563234471706, 1319.015042519657, 3222.9624307848553, 4868.757660059695, 6391.910025351285, 10048.435490255923, 11289.314833769344, 10937.282241282042]\n",
      "[7543.225458440014, 7328.125764635302, 5011.7361924019515, 5003.501954090871, 4946.889510472006, 5139.431955162939, 6784.5619807895255, 6154.384326342032, 5137.372117827212]\n"
     ]
    }
   ],
   "source": [
    "print(train_mse)\n",
    "print(test_mse)"
   ]
  },
  {
   "cell_type": "code",
   "execution_count": 709,
   "metadata": {},
   "outputs": [
    {
     "data": {
      "text/plain": [
       "[<matplotlib.lines.Line2D at 0x15483b90>]"
      ]
     },
     "execution_count": 709,
     "metadata": {},
     "output_type": "execute_result"
    },
    {
     "data": {
      "image/png": "[encoded data removed]",
      "text/plain": [
       "<Figure size 432x288 with 1 Axes>"
      ]
     },
     "metadata": {
      "needs_background": "light"
     },
     "output_type": "display_data"
    }
   ],
   "source": [
    "plt.plot(set_sizes, train_mse, '.b-')\n",
    "plt.xlabel(\"training set size\")\n",
    "plt.ylabel(\"MSE\")\n",
    "plt.plot(set_sizes, test_mse, '.r-')"
   ]
  },
  {
   "cell_type": "code",
   "execution_count": null,
   "metadata": {},
   "outputs": [],
   "source": []
  }
 ],
 "metadata": {
  "kernelspec": {
   "display_name": "Python 3",
   "language": "python",
   "name": "python3"
  },
  "language_info": {
   "codemirror_mode": {
    "name": "ipython",
    "version": 3
   },
   "file_extension": ".py",
   "mimetype": "text/x-python",
   "name": "python",
   "nbconvert_exporter": "python",
   "pygments_lexer": "ipython3",
   "version": "3.7.4"
  }
 },
 "nbformat": 4,
 "nbformat_minor": 1
}
